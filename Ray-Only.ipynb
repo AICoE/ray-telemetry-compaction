{
 "cells": [
  {
   "cell_type": "markdown",
   "metadata": {},
   "source": [
    "Converting pip cells"
   ]
  },
  {
   "cell_type": "code",
   "execution_count": null,
   "metadata": {},
   "outputs": [],
   "source": [
    "%horus convert"
   ]
  },
  {
   "cell_type": "code",
   "execution_count": null,
   "metadata": {
    "tags": []
   },
   "outputs": [],
   "source": [
    "pip install --upgrade pip"
   ]
  },
  {
   "cell_type": "code",
   "execution_count": null,
   "metadata": {
    "ExecuteTime": {
     "end_time": "2022-06-07T15:32:17.584233Z",
     "start_time": "2022-06-07T15:32:17.561434Z"
    },
    "tags": []
   },
   "outputs": [],
   "source": [
    "# Install requirements\n",
    "!pip install -r Requirements.txt "
   ]
  },
  {
   "cell_type": "code",
   "execution_count": null,
   "metadata": {
    "tags": []
   },
   "outputs": [],
   "source": [
    "# View AWS Configuration\n",
    "!aws configure set default.region us-east-1\n",
    "!aws configure list\n"
   ]
  },
  {
   "cell_type": "markdown",
   "metadata": {
    "tags": []
   },
   "source": [
    "Restart kernel to load the new libraries."
   ]
  },
  {
   "cell_type": "markdown",
   "metadata": {},
   "source": [
    "----Code Start----"
   ]
  },
  {
   "cell_type": "markdown",
   "metadata": {},
   "source": [
    "Import statements"
   ]
  },
  {
   "cell_type": "code",
   "execution_count": null,
   "metadata": {
    "ExecuteTime": {
     "end_time": "2022-06-07T15:15:07.734716Z",
     "start_time": "2022-06-07T15:15:02.353151Z"
    },
    "tags": []
   },
   "outputs": [],
   "source": [
    "# Prerequisite - Imports \n",
    "import os\n",
    "from ray.util import inspect_serializability\n",
    "import ray\n",
    "import pyarrow.fs as pq\n",
    "import pandas as pd\n",
    "\n",
    "# Making use of datetime for dates, works for every day of the year (30,31,28 day problems go away)\n",
    "from datetime import date, timedelta\n",
    "from dateutil.relativedelta import relativedelta"
   ]
  },
  {
   "cell_type": "markdown",
   "metadata": {},
   "source": [
    "Connect to ray cluster"
   ]
  },
  {
   "cell_type": "code",
   "execution_count": null,
   "metadata": {
    "tags": []
   },
   "outputs": [],
   "source": [
    "# Prerequisite - Connect to the Ray cluster on OpenShift\n",
    "from ray.util.client import ray as rayclient\n",
    "if rayclient.is_connected():\n",
    "    ray.util.disconnect()\n",
    "\n",
    "ray.util.connect('{ray_head}:10001'.format(ray_head=os.environ['RAY_CLUSTER']))"
   ]
  },
  {
   "cell_type": "markdown",
   "metadata": {},
   "source": [
    "Reusable definitions here"
   ]
  },
  {
   "cell_type": "code",
   "execution_count": null,
   "metadata": {
    "tags": []
   },
   "outputs": [],
   "source": [
    "# Prerequisite - Specify reusable definitions\n",
    "\n",
    "# metricName = 'cluster_version'\n",
    "metricName = 'cluster_feature_set'\n",
    "\n",
    "bucketName = 'DH-SECURE-THANOS-RAY-USE'\n",
    "endpoint = 'https://s3.upshift.redhat.com'\n",
    "\n",
    "prefixPathRead = 'raydev'\n",
    "prefixPathWrite = 'raydev-write-demo'\n",
    "\n",
    "year = '2021'\n",
    "month = '01'\n",
    "day = '01'\n",
    "\n",
    "# Read path\n",
    "read_path = f'{prefixPathRead}/metric={metricName}'\n",
    "\n",
    "# Write path\n",
    "write_path = f'{prefixPathWrite}/metric={metricName}'\n"
   ]
  },
  {
   "cell_type": "markdown",
   "metadata": {},
   "source": [
    "Create a filesystem object"
   ]
  },
  {
   "cell_type": "code",
   "execution_count": null,
   "metadata": {
    "tags": []
   },
   "outputs": [],
   "source": [
    "# Prerequisite - Create S3FileSystem in PyArrow\n",
    "# Why: Allows us to specify a custom endpoint\n",
    "AWS_ACCESS_KEY = %env AWS_ACCESS_KEY_ID\n",
    "AWS_SECRET_KEY = %env AWS_SECRET_ACCESS_KEY\n",
    "fs_pyarrow = pq.S3FileSystem(access_key=AWS_ACCESS_KEY, secret_key=AWS_SECRET_KEY, endpoint_override=endpoint)"
   ]
  },
  {
   "cell_type": "markdown",
   "metadata": {},
   "source": [
    "Compact everyday and store as one parquet (365 files)"
   ]
  },
  {
   "cell_type": "code",
   "execution_count": null,
   "metadata": {
    "jupyter": {
     "source_hidden": true
    },
    "tags": []
   },
   "outputs": [],
   "source": [
    "#%%capture output \n",
    "firstDay = date(2021,1,1) #January onwards\n",
    "lastDay = firstDay + relativedelta(months = 1)\n",
    "duration = lastDay - firstDay\n",
    "for _ in range(12):\n",
    "    for i in range(duration.days):\n",
    "        day = firstDay + timedelta(days = i)\n",
    "        # Set year, month and and day here\n",
    "        year, month, day = (day.year, day.month, day.day)        \n",
    "        # Code here:\n",
    "        # <Read dataframe>\n",
    "        currentReadPath = f's3://{bucketName}/{read_path}/year={year}/month={month:02d}/day={day:02d}'\n",
    "        print(\"Reading from:\",currentReadPath)\n",
    "        df = ray.data.read_parquet(paths=currentReadPath, filesystem=fs_pyarrow)\n",
    "        # <Writeback single parquet for the day>\n",
    "        currentWritePath = f's3://{bucketName}/{write_path}/year={year}/month={month:02d}/day={day:02d}'\n",
    "        print(\"Writing to:\", currentWritePath)\n",
    "        df.repartition(1).write_parquet(path=currentWritePath, filesystem=fs_pyarrow)\n",
    "    firstDay = lastDay\n",
    "    lastDay = firstDay + relativedelta(months = 1)\n",
    "    duration = lastDay"
   ]
  },
  {
   "cell_type": "markdown",
   "metadata": {
    "tags": []
   },
   "source": [
    "Trying to see if Ray remote functions make a difference\n",
    "- Not working as of now, requires initializing S3."
   ]
  },
  {
   "cell_type": "code",
   "execution_count": null,
   "metadata": {
    "jupyter": {
     "source_hidden": true
    },
    "tags": []
   },
   "outputs": [],
   "source": [
    "#%%capture output \n",
    "@ray.remote\n",
    "def compaction():\n",
    "    firstDay = date(2021,1,1)\n",
    "    lastDay = firstDay + relativedelta(months = 1)\n",
    "    duration = lastDay - firstDay\n",
    "    # Trying to initialize S3 for remote Ray function\n",
    "    InitializeS3()\n",
    "    for _ in range(12):\n",
    "        for i in range(duration.days):\n",
    "            day = firstDay + timedelta(days = i)\n",
    "            # Set year, month and and day here\n",
    "            year, month, day = (day.year, day.month, day.day)\n",
    "            currentReadPath = f's3://{bucketName}/{read_path}/year={year}/month={month:02d}/day={day:02d}'\n",
    "            print(\"Reading from:\",currentReadPath)\n",
    "            # Code here:\n",
    "            # <Read dataframe>\n",
    "            df = ray.data.read_parquet(paths=currentReadPath, filesystem=fs_pyarrow)\n",
    "            # <Writeback single parquet for the day>\n",
    "            currentWritePath = f's3://{bucketName}/{write_path}/year={year}/month={month:02d}/day={day:02d}'\n",
    "            df.repartition(1).write_parquet(path=currentWritePath, filesystem=fs_pyarrow)\n",
    "            print(\"Writing to:\", currentWritePath)\n",
    "        firstDay = lastDay\n",
    "        lastDay = firstDay + relativedelta(months = 1)\n",
    "        duration = lastDay"
   ]
  },
  {
   "cell_type": "code",
   "execution_count": null,
   "metadata": {
    "jupyter": {
     "source_hidden": true
    },
    "tags": []
   },
   "outputs": [],
   "source": [
    "compaction.remote()"
   ]
  },
  {
   "cell_type": "markdown",
   "metadata": {},
   "source": [
    "Display cached output"
   ]
  },
  {
   "cell_type": "code",
   "execution_count": null,
   "metadata": {
    "jupyter": {
     "source_hidden": true
    },
    "tags": []
   },
   "outputs": [],
   "source": [
    "output.show()"
   ]
  },
  {
   "cell_type": "markdown",
   "metadata": {},
   "source": [
    "Run compaction section wise for a single day:"
   ]
  },
  {
   "cell_type": "code",
   "execution_count": null,
   "metadata": {},
   "outputs": [],
   "source": [
    "# Prerequisite - Specify day to compact \n",
    "compactDay = date(2021, 1, 1)\n",
    "month = compactDay.month\n",
    "day = compactDay.day\n",
    "year = compactDay.year"
   ]
  },
  {
   "cell_type": "code",
   "execution_count": null,
   "metadata": {
    "tags": []
   },
   "outputs": [],
   "source": [
    "# (1/2) Read one days worth\n",
    "currentReadPath = f's3://{bucketName}/{read_path}/year={year}/month={month:02d}/day={day:02d}'\n",
    "print(\"Reading from:\",currentReadPath)\n",
    "# Code here:\n",
    "# <Read dataframe>\n",
    "df = ray.data.read_parquet(paths=currentReadPath, filesystem=fs_pyarrow)\n"
   ]
  },
  {
   "cell_type": "code",
   "execution_count": null,
   "metadata": {
    "tags": []
   },
   "outputs": [],
   "source": [
    "# View dataframe details (Number of blocks, schema)\n",
    "print(df)"
   ]
  },
  {
   "cell_type": "code",
   "execution_count": null,
   "metadata": {
    "tags": []
   },
   "outputs": [],
   "source": [
    "# (2/2) Compact and write back to S3\n",
    "currentWritePath = f's3://{bucketName}/{write_path}/year={year}/month={month:02d}/day={day:02d}'\n",
    "print(\"Writing to:\", currentWritePath)\n",
    "df.repartition(1).write_parquet(path=currentWritePath, filesystem=fs_pyarrow)"
   ]
  }
 ],
 "metadata": {
  "kernelspec": {
   "display_name": "Python 3 (ipykernel)",
   "language": "python",
   "name": "python3"
  },
  "language_info": {
   "codemirror_mode": {
    "name": "ipython",
    "version": 3
   },
   "file_extension": ".py",
   "mimetype": "text/x-python",
   "name": "python",
   "nbconvert_exporter": "python",
   "pygments_lexer": "ipython3",
   "version": "3.8.8"
  },
  "toc": {
   "base_numbering": 1,
   "nav_menu": {},
   "number_sections": true,
   "sideBar": true,
   "skip_h1_title": false,
   "title_cell": "Table of Contents",
   "title_sidebar": "Contents",
   "toc_cell": false,
   "toc_position": {},
   "toc_section_display": true,
   "toc_window_display": false
  }
 },
 "nbformat": 4,
 "nbformat_minor": 4
}
