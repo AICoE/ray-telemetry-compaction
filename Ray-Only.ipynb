{
 "cells": [
  {
   "cell_type": "markdown",
   "metadata": {},
   "source": [
    "Converting pip cells"
   ]
  },
  {
   "cell_type": "code",
   "execution_count": null,
   "metadata": {},
   "outputs": [],
   "source": [
    "%horus convert"
   ]
  },
  {
   "cell_type": "code",
   "execution_count": null,
   "metadata": {
    "tags": []
   },
   "outputs": [],
   "source": [
    "pip install --upgrade pip"
   ]
  },
  {
   "cell_type": "code",
   "execution_count": null,
   "metadata": {
    "ExecuteTime": {
     "end_time": "2022-06-07T15:32:17.584233Z",
     "start_time": "2022-06-07T15:32:17.561434Z"
    },
    "tags": []
   },
   "outputs": [],
   "source": [
    "# Install requirements\n",
    "!pip install -r Requirements.txt "
   ]
  },
  {
   "cell_type": "code",
   "execution_count": null,
   "metadata": {
    "tags": []
   },
   "outputs": [],
   "source": [
    "# View AWS Configuration\n",
    "!aws configure set default.region us-east-1\n",
    "!aws configure list\n"
   ]
  },
  {
   "cell_type": "markdown",
   "metadata": {
    "tags": []
   },
   "source": [
    "Restart kernel to load the new libraries."
   ]
  },
  {
   "cell_type": "markdown",
   "metadata": {},
   "source": [
    "----Code Start----"
   ]
  },
  {
   "cell_type": "markdown",
   "metadata": {},
   "source": [
    "Import statements"
   ]
  },
  {
   "cell_type": "code",
   "execution_count": null,
   "metadata": {
    "ExecuteTime": {
     "end_time": "2022-06-07T15:15:07.734716Z",
     "start_time": "2022-06-07T15:15:02.353151Z"
    },
    "tags": []
   },
   "outputs": [],
   "source": [
    "# Imports \n",
    "import os\n",
    "from ray.util import inspect_serializability\n",
    "import ray\n",
    "import pyarrow.fs as pq\n",
    "import pandas as pd\n",
    "\n",
    "# Making use of datetime for dates, works for every day of the year (30,31,28 day problems go away)\n",
    "from datetime import date, timedelta\n",
    "from dateutil.relativedelta import relativedelta"
   ]
  },
  {
   "cell_type": "markdown",
   "metadata": {},
   "source": [
    "Connect to ray cluster"
   ]
  },
  {
   "cell_type": "code",
   "execution_count": null,
   "metadata": {
    "tags": []
   },
   "outputs": [],
   "source": [
    "from ray.util.client import ray as rayclient\n",
    "if rayclient.is_connected():\n",
    "    ray.util.disconnect()\n",
    "\n",
    "ray.util.connect('{ray_head}:10001'.format(ray_head=os.environ['RAY_CLUSTER']))"
   ]
  },
  {
   "cell_type": "markdown",
   "metadata": {},
   "source": [
    "Reusable definitions here"
   ]
  },
  {
   "cell_type": "code",
   "execution_count": null,
   "metadata": {
    "tags": []
   },
   "outputs": [],
   "source": [
    "# Reusable definitions here\n",
    "bucketName = 'DH-SECURE-THANOS-RAY-USE'\n",
    "endpoint = 'https://s3.upshift.redhat.com'\n",
    "\n",
    "prefixPathRead = 'raydev'\n",
    "prefixPathWrite = 'raydev-write-demo'\n",
    "metricName = 'cluster_version'\n",
    "\n",
    "AWS_ACCESS_KEY = %env AWS_ACCESS_KEY_ID\n",
    "AWS_SECRET_KEY = %env AWS_SECRET_ACCESS_KEY\n",
    "\n",
    "year = '2021'\n",
    "month = '01'\n",
    "day = '01'\n",
    "\n",
    "# Read path\n",
    "read_path = f'{prefixPathRead}/metric={metricName}'\n",
    "\n",
    "# Write path\n",
    "write_path = f'{prefixPathWrite}/metric={metricName}'\n"
   ]
  },
  {
   "cell_type": "code",
   "execution_count": null,
   "metadata": {
    "tags": []
   },
   "outputs": [],
   "source": [
    "# S3FileSystem in PyArrow\n",
    "fs_pyarrow = pq.S3FileSystem(access_key=AWS_ACCESS_KEY, secret_key=AWS_SECRET_KEY, endpoint_override=endpoint)"
   ]
  },
  {
   "cell_type": "markdown",
   "metadata": {
    "tags": []
   },
   "source": [
    "Following cells reads one days worth of parquet files and writes back a single parquet file\n",
    "Month 1, Day 1.\n",
    "1. Fails currently because worker nodes keep dying.\n",
    "2. Success! Successful compaction for a days worth of parquets. Next is a month."
   ]
  },
  {
   "cell_type": "code",
   "execution_count": null,
   "metadata": {
    "jupyter": {
     "source_hidden": true
    },
    "tags": []
   },
   "outputs": [],
   "source": [
    "# Read path\n",
    "read_path = f'{prefixPathRead}/metric={metricName}'\n",
    "read_bucket_uri = f's3://{bucketName}/{read_path}/year={year}/month={month}/day={day}'\n",
    "\n",
    "# Write path\n",
    "write_path = f'{prefixPathWrite}/metric={metricName}'\n",
    "write_bucket_uri = f's3://{bucketName}/{write_path}/year={year}/month={month}/day={day}'"
   ]
  },
  {
   "cell_type": "code",
   "execution_count": null,
   "metadata": {
    "jupyter": {
     "source_hidden": true
    },
    "tags": []
   },
   "outputs": [],
   "source": [
    "# S3FileSystem in PyArrow\n",
    "fs_pyarrow = pq.S3FileSystem(access_key=AWS_ACCESS_KEY, secret_key=AWS_SECRET_KEY, endpoint_override=endpoint)\n",
    "# Reading parquet using Ray through filesystem\n",
    "df = ray.data.read_parquet(paths=read_bucket_uri, filesystem=fs_pyarrow)\n",
    "\n",
    "# Writing back a single parquet file\n",
    "df.repartition(1).write_parquet(path=write_bucket_uri, filesystem=fs_pyarrow)"
   ]
  },
  {
   "cell_type": "markdown",
   "metadata": {
    "tags": []
   },
   "source": [
    "Following cells try compaction for a whole month:\n",
    "1. Reading from multiple directories seems to be not supported\n",
    "2. Union of dataframes is supported, can be done before the compaction step. https://github.com/ray-project/ray/issues/24598\n",
    "Status: Fails due to memory limits, cannot load a dataframe for more than several days worth of parquets"
   ]
  },
  {
   "cell_type": "code",
   "execution_count": null,
   "metadata": {
    "jupyter": {
     "source_hidden": true
    },
    "tags": []
   },
   "outputs": [],
   "source": [
    "# Read path\n",
    "read_path = f'{prefixPathRead}/metric={metricName}'\n",
    "read_bucket_uri = f's3://{bucketName}/{read_path}/year={year}/month={month}/day={day}'\n",
    "# Holds paths \n",
    "read_bucket_multiple = []\n",
    "\n",
    "# Creating paths for every day in the month.\n",
    "for i in range(2,32):\n",
    "    read_bucket_multiple.append(f\"s3://{bucketName}/{read_path}/year={year}/month={month}/day=\"f\"{i:02d}\")\n",
    "                           \n",
    "#print(read_bucket_multiple)\n",
    "\n",
    "\n",
    "# Write path\n",
    "write_path = f\"{prefixPathWrite}/metric={metricName}\"\n",
    "write_bucket_uri = f's3://{bucketName}/{write_path}/year={year}/month={month}'\n"
   ]
  },
  {
   "cell_type": "code",
   "execution_count": null,
   "metadata": {
    "jupyter": {
     "source_hidden": true
    },
    "tags": []
   },
   "outputs": [],
   "source": [
    "# S3FileSystem in PyArrow\n",
    "fs_pyarrow = pq.S3FileSystem(endpoint_override=endpoint)\n",
    "\n",
    "\n",
    "# Initial read - First day to start a dataframe\n",
    "master_df = ray.data.read_parquet(paths=f's3://{bucketName}/{prefixPathRead}/metric={metricName}/year={year}/month={month}/day=01', filesystem=fs_pyarrow)\n",
    "\n",
    "# Reading remaining days\n",
    "for x in read_bucket_multiple:\n",
    "    df = ray.data.read_parquet(paths=x, filesystem=fs_pyarrow) # Reading parquets for each day using Ray through filesystem\n",
    "    master_df = master_df.union(df) # Followed by unioning the dataframe each time\n",
    "    \n"
   ]
  },
  {
   "cell_type": "code",
   "execution_count": null,
   "metadata": {
    "jupyter": {
     "source_hidden": true
    },
    "tags": []
   },
   "outputs": [],
   "source": [
    "# Writing back a single parquet file\n",
    "df.repartition(1).write_parquet(path=write_bucket_uri, filesystem=fs_pyarrow)"
   ]
  },
  {
   "cell_type": "markdown",
   "metadata": {
    "tags": []
   },
   "source": [
    "Making use of datetime to run compaction for every day, union dataframes and finally writeback"
   ]
  },
  {
   "cell_type": "code",
   "execution_count": null,
   "metadata": {
    "jupyter": {
     "source_hidden": true
    },
    "tags": []
   },
   "outputs": [],
   "source": [
    "firstDay = date(2021, 1, 1)\n",
    "lastDay = firstDay + relativedelta(months = 1)\n",
    "print(lastDay, firstDay)\n",
    "duration = lastDay - firstDay\n",
    "print(duration)\n",
    "for _ in range(12):\n",
    "    for i in range(duration.days):\n",
    "        day = firstDay + timedelta(days = i)\n",
    "        # Set year, month and and day here\n",
    "        year, month, day = (day.year, day.month, day.day)\n",
    "        currentPath = f's3://{bucketName}/{read_path}/year={year}/month='f'{month:02d}''/day='f'{day:02d}'\n",
    "        print(currentPath)\n",
    "        # Code here:\n",
    "        # <Read dataframe>\n",
    "        df = ray.data.read_parquet(paths=currentPath, filesystem=fs_pyarrow)\n",
    "        # <Union dataframe> if not day 1.\n",
    "        if day != 1:\n",
    "            master_df = master_df.union(df) # Followed by unioning the dataframe each time\n",
    "        else:\n",
    "            df = master_df\n",
    "\n",
    "    # Code here:\n",
    "    # <Writeback single parquet for the month>\n",
    "    df.repartition(1).write_parquet(path=f's3://{bucketName}/{write_path}/year={year}/month='f'{month:02d}', filesystem=fs_pyarrow)\n",
    "    firstDay = lastDay\n",
    "    lastDay = firstDay + relativedelta(months = 1)\n"
   ]
  },
  {
   "cell_type": "markdown",
   "metadata": {},
   "source": [
    "Compact everyday and store as one parquet (365 files)"
   ]
  },
  {
   "cell_type": "code",
   "execution_count": null,
   "metadata": {
    "jupyter": {
     "source_hidden": true
    },
    "tags": []
   },
   "outputs": [],
   "source": [
    "#%%capture output \n",
    "firstDay = date(2021,2,1) #February onwards\n",
    "lastDay = firstDay + relativedelta(months = 1)\n",
    "#print(lastDay, firstDay)\n",
    "duration = lastDay - firstDay\n",
    "#print(duration)\n",
    "for _ in range(12):\n",
    "    for i in range(duration.days):\n",
    "        day = firstDay + timedelta(days = i)\n",
    "        # Set year, month and and day here\n",
    "        year, month, day = (day.year, day.month, day.day)        \n",
    "        # Code here:\n",
    "        # <Read dataframe>\n",
    "        currentReadPath = f's3://{bucketName}/{read_path}/year={year}/month='f'{month:02d}''/day='f'{day:02d}'\n",
    "        print(\"Reading from:\",currentReadPath)\n",
    "        df = ray.data.read_parquet(paths=currentReadPath, filesystem=fs_pyarrow)\n",
    "        # <Writeback single parquet for the day>\n",
    "        currentWritePath = f's3://{bucketName}/{write_path}/year={year}/month='f'{month:02d}''/day='f'{day:02d}'\n",
    "        print(\"Writing to:\", currentWritePath)\n",
    "        df.repartition(1).write_parquet(path=currentWritePath, filesystem=fs_pyarrow)\n",
    "    firstDay = lastDay\n",
    "    lastDay = firstDay + relativedelta(months = 1)\n",
    "    duration = lastDay"
   ]
  },
  {
   "cell_type": "markdown",
   "metadata": {},
   "source": [
    "Trying to see if Ray remote functions make a difference"
   ]
  },
  {
   "cell_type": "code",
   "execution_count": null,
   "metadata": {
    "jupyter": {
     "source_hidden": true
    },
    "tags": []
   },
   "outputs": [],
   "source": [
    "#%%capture output \n",
    "@ray.remote\n",
    "def compaction():\n",
    "    firstDay = date(2021,1,1)\n",
    "    lastDay = firstDay + relativedelta(months = 1)\n",
    "    #print(lastDay, firstDay)\n",
    "    duration = lastDay - firstDay\n",
    "    #print(duration)\n",
    "    InitializeS3()\n",
    "    for _ in range(12):\n",
    "        for i in range(duration.days):\n",
    "            day = firstDay + timedelta(days = i)\n",
    "            # Set year, month and and day here\n",
    "            year, month, day = (day.year, day.month, day.day)\n",
    "            currentReadPath = f's3://{bucketName}/{read_path}/year={year}/month='f'{month:02d}''/day='f'{day:02d}'\n",
    "            print(\"Reading from:\",currentReadPath)\n",
    "            # Code here:\n",
    "            # <Read dataframe>\n",
    "            df = ray.data.read_parquet(paths=currentReadPath, filesystem=fs_pyarrow)\n",
    "            # <Writeback single parquet for the day>\n",
    "            currentWritePath = f's3://{bucketName}/{write_path}/year={year}/month='f'{month:02d}''/day='f'{day:02d}'\n",
    "            df.repartition(1).write_parquet(path=currentWritePath, filesystem=fs_pyarrow)\n",
    "            print(\"Writing to:\", currentWritePath)\n",
    "        firstDay = lastDay\n",
    "        lastDay = firstDay + relativedelta(months = 1)\n",
    "        duration = lastDay"
   ]
  },
  {
   "cell_type": "code",
   "execution_count": null,
   "metadata": {
    "jupyter": {
     "source_hidden": true
    },
    "tags": []
   },
   "outputs": [],
   "source": [
    "compaction.remote()"
   ]
  },
  {
   "cell_type": "markdown",
   "metadata": {},
   "source": [
    "Display cached output"
   ]
  },
  {
   "cell_type": "code",
   "execution_count": null,
   "metadata": {
    "tags": []
   },
   "outputs": [],
   "source": [
    "output.show()"
   ]
  },
  {
   "cell_type": "markdown",
   "metadata": {},
   "source": [
    "Breaking down the code for read and write"
   ]
  },
  {
   "cell_type": "code",
   "execution_count": null,
   "metadata": {
    "tags": []
   },
   "outputs": [],
   "source": [
    "#Read one days worth\n",
    "currentReadPath = f's3://{bucketName}/{read_path}/year=2021/month=01/day=04'\n",
    "print(\"Reading from:\",currentReadPath)\n",
    "# Code here:\n",
    "# <Read dataframe>\n",
    "df = ray.data.read_parquet(paths=currentReadPath, filesystem=fs_pyarrow)\n"
   ]
  },
  {
   "cell_type": "code",
   "execution_count": null,
   "metadata": {
    "tags": []
   },
   "outputs": [],
   "source": [
    "print(df)"
   ]
  },
  {
   "cell_type": "code",
   "execution_count": null,
   "metadata": {
    "tags": []
   },
   "outputs": [],
   "source": [
    "df.repartition(1)"
   ]
  },
  {
   "cell_type": "code",
   "execution_count": null,
   "metadata": {
    "tags": []
   },
   "outputs": [],
   "source": [
    "#%%capture output \n",
    "currentWritePath = f's3://{bucketName}/{write_path}/year=2021/month=01/day=04'\n",
    "print(\"Writing to:\", currentWritePath)\n",
    "df.repartition(1).write_parquet(path=currentWritePath, filesystem=fs_pyarrow)"
   ]
  }
 ],
 "metadata": {
  "kernelspec": {
   "display_name": "Python 3 (ipykernel)",
   "language": "python",
   "name": "python3"
  },
  "language_info": {
   "codemirror_mode": {
    "name": "ipython",
    "version": 3
   },
   "file_extension": ".py",
   "mimetype": "text/x-python",
   "name": "python",
   "nbconvert_exporter": "python",
   "pygments_lexer": "ipython3",
   "version": "3.8.8"
  },
  "toc": {
   "base_numbering": 1,
   "nav_menu": {},
   "number_sections": true,
   "sideBar": true,
   "skip_h1_title": false,
   "title_cell": "Table of Contents",
   "title_sidebar": "Contents",
   "toc_cell": false,
   "toc_position": {},
   "toc_section_display": true,
   "toc_window_display": false
  }
 },
 "nbformat": 4,
 "nbformat_minor": 4
}
