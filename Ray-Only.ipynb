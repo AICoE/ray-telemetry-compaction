{
 "cells": [
  {
   "cell_type": "code",
   "execution_count": null,
   "metadata": {
    "tags": []
   },
   "outputs": [],
   "source": [
    "pip install --upgrade pip"
   ]
  },
  {
   "cell_type": "code",
   "execution_count": null,
   "metadata": {
    "ExecuteTime": {
     "end_time": "2022-06-07T15:32:17.584233Z",
     "start_time": "2022-06-07T15:32:17.561434Z"
    },
    "tags": []
   },
   "outputs": [],
   "source": [
    "# Install requirements\n",
    "!pip install -r Requirements.txt"
   ]
  },
  {
   "cell_type": "code",
   "execution_count": null,
   "metadata": {
    "tags": []
   },
   "outputs": [],
   "source": [
    "# View AWS Configuration\n",
    "!aws configure list"
   ]
  },
  {
   "cell_type": "markdown",
   "metadata": {},
   "source": [
    "----Code Start----"
   ]
  },
  {
   "cell_type": "code",
   "execution_count": null,
   "metadata": {
    "ExecuteTime": {
     "end_time": "2022-06-07T15:15:07.734716Z",
     "start_time": "2022-06-07T15:15:02.353151Z"
    }
   },
   "outputs": [],
   "source": [
    "# Imports \n",
    "from ray.util import inspect_serializability\n",
    "import ray\n",
    "import pyarrow.fs as pq\n",
    "import pandas as pd"
   ]
  },
  {
   "cell_type": "code",
   "execution_count": null,
   "metadata": {},
   "outputs": [],
   "source": [
    "# Reusable definitions here\n",
    "bucketName = 'DH-SECURE-THANOS-RAY-USE'\n",
    "endpoint = 'https://s3.upshift.redhat.com'\n",
    "\n",
    "prefixPathRead = 'raydev'\n",
    "prefixPathWrite = 'raydev-write-demo'\n",
    "metricName = 'cluster_version'\n",
    "\n",
    "year = '2021'\n",
    "month = '01'\n",
    "day = '01'"
   ]
  },
  {
   "cell_type": "markdown",
   "metadata": {},
   "source": [
    "Following cells reads one days worth of parquet files and writes back a single parquet file\n",
    "Month 1, Day 1.\n",
    "1. Fails currently because worker nodes keep dying.\n",
    "2. Success! Successful compaction for a days worth of parquets. Next is a month."
   ]
  },
  {
   "cell_type": "code",
   "execution_count": null,
   "metadata": {},
   "outputs": [],
   "source": [
    "# Read path\n",
    "read_path = f'{prefixPathRead}/metric={metricName}'\n",
    "read_bucket_uri = f's3://{bucketName}/{read_path}/year={year}/month={month}/day={day}'\n",
    "print(read_bucket_uri)\n",
    "\n",
    "# Write path\n",
    "write_path = f'{prefixPathWrite}/metric={metricName}'\n",
    "write_bucket_uri = f's3://{bucketName}/{write_path}/year={year}/month={month}/day={day}'"
   ]
  },
  {
   "cell_type": "code",
   "execution_count": null,
   "metadata": {
    "tags": []
   },
   "outputs": [],
   "source": [
    "# S3FileSystem in PyArrow\n",
    "fs_pyarrow = pq.S3FileSystem(endpoint_override=endpoint)\n",
    "\n",
    "# Reading parquet using Ray through filesystem\n",
    "df = ray.data.read_parquet(paths=read_bucket_uri, filesystem=fs_pyarrow)\n",
    "\n",
    "# Writing back a single parquet file\n",
    "df.repartition(1).write_parquet(path=write_bucket_uri, filesystem=fs_pyarrow)"
   ]
  },
  {
   "cell_type": "markdown",
   "metadata": {},
   "source": [
    "Following cells try compaction for a whole month:\n",
    "1. Reading from multiple directories seems to be not supported\n",
    "2. Union of dataframes is supported, can be done before the compaction step. https://github.com/ray-project/ray/issues/24598\n",
    "Status: Fails due to memory limits, cannot load a dataframe for more than several days worth of parquets"
   ]
  },
  {
   "cell_type": "code",
   "execution_count": null,
   "metadata": {
    "tags": []
   },
   "outputs": [],
   "source": [
    "# Read path\n",
    "read_path = f'{prefixPathRead}/metric={metricName}'\n",
    "read_bucket_uri = f's3://{bucketName}/{read_path}/year={year}/month={month}/day={day}'\n",
    "# Holds paths \n",
    "read_bucket_multiple = []\n",
    "\n",
    "# Creating paths for every day in the month.\n",
    "for i in range(2,32):\n",
    "    read_bucket_multiple.append(f\"s3://{bucketName}/{read_path}/year={year}/month={month}/day=\"f\"{i:02d}\")\n",
    "                           \n",
    "#print(read_bucket_multiple)\n",
    "\n",
    "\n",
    "# Write path\n",
    "write_path = f\"{prefixPath}/metric={metricName}\"\n",
    "write_bucket_uri = f's3://{bucketName}/{write_path}/year={year}/month={month}'\n"
   ]
  },
  {
   "cell_type": "code",
   "execution_count": null,
   "metadata": {
    "tags": []
   },
   "outputs": [
    {
     "name": "stderr",
     "output_type": "stream",
     "text": [
      "2022-06-14 14:17:12,492\tWARNING worker.py:1382 -- A worker died or was killed while executing a task by an unexpected system error. To troubleshoot the problem, check the logs for the dead worker. RayTask ID: 183fd5ac5279cea1f9ecb32047c9021ec68b455701000000 Worker ID: b80b93f419a8e18eb1ea4296629279bd8cfd387ab6a633649b309e70 Node ID: fedc7d52d35d622bb8e7ca123054f7ece21cf6306322dc515efc0848 Worker IP address: 172.44.16.44 Worker port: 46225 Worker PID: 41860\n",
      "2022-06-14 14:17:17,390\tWARNING worker.py:1382 -- A worker died or was killed while executing a task by an unexpected system error. To troubleshoot the problem, check the logs for the dead worker. RayTask ID: 68c163d95417a4d8e0a6211cfdaa2f0ca48d163201000000 Worker ID: b2fe3d827c76c63b546683108646f53fb1463763ef4afbdfcd9dd668 Node ID: fedc7d52d35d622bb8e7ca123054f7ece21cf6306322dc515efc0848 Worker IP address: 172.44.16.44 Worker port: 40009 Worker PID: 41969\n",
      "2022-06-14 14:17:22,559\tWARNING worker.py:1382 -- A worker died or was killed while executing a task by an unexpected system error. To troubleshoot the problem, check the logs for the dead worker. RayTask ID: 37ad16a9647c4440170e48a3b5089e6c52a260d601000000 Worker ID: 498602831a4a45c0661511c2931f2ec1c0106fe98ffa7f9e6bd0f735 Node ID: fedc7d52d35d622bb8e7ca123054f7ece21cf6306322dc515efc0848 Worker IP address: 172.44.16.44 Worker port: 36689 Worker PID: 42000\n"
     ]
    }
   ],
   "source": [
    "# S3FileSystem in PyArrow\n",
    "fs_pyarrow = pq.S3FileSystem(endpoint_override=endpoint)\n",
    "\n",
    "\n",
    "# Initial read - First day to start a dataframe\n",
    "master_df = ray.data.read_parquet(paths=f's3://{bucketName}/{prefixPathRead}/metric={metricName}/year={year}/month={month}/day=01', filesystem=fs_pyarrow)\n",
    "\n",
    "# Reading remaining days\n",
    "for x in read_bucket_multiple:\n",
    "    df = ray.data.read_parquet(paths=x, filesystem=fs_pyarrow) # Reading parquets for each day using Ray through filesystem\n",
    "    master_df = master_df.union(df) # Followed by unioning the dataframe each time\n",
    "    \n"
   ]
  },
  {
   "cell_type": "code",
   "execution_count": null,
   "metadata": {},
   "outputs": [],
   "source": [
    "# Writing back a single parquet file\n",
    "df.repartition(1).write_parquet(path=write_bucket_uri, filesystem=fs_pyarrow)"
   ]
  }
 ],
 "metadata": {
  "kernelspec": {
   "display_name": "Python 3",
   "language": "python",
   "name": "python3"
  },
  "language_info": {
   "codemirror_mode": {
    "name": "ipython",
    "version": 3
   },
   "file_extension": ".py",
   "mimetype": "text/x-python",
   "name": "python",
   "nbconvert_exporter": "python",
   "pygments_lexer": "ipython3",
   "version": "3.8.6"
  },
  "toc": {
   "base_numbering": 1,
   "nav_menu": {},
   "number_sections": true,
   "sideBar": true,
   "skip_h1_title": false,
   "title_cell": "Table of Contents",
   "title_sidebar": "Contents",
   "toc_cell": false,
   "toc_position": {},
   "toc_section_display": true,
   "toc_window_display": false
  }
 },
 "nbformat": 4,
 "nbformat_minor": 4
}
