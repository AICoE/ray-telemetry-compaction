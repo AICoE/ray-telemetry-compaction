{
 "cells": [
  {
   "cell_type": "code",
   "execution_count": null,
   "metadata": {
    "tags": []
   },
   "outputs": [],
   "source": [
    "pip install --upgrade pip"
   ]
  },
  {
   "cell_type": "code",
   "execution_count": null,
   "metadata": {
    "ExecuteTime": {
     "end_time": "2022-06-07T15:32:17.584233Z",
     "start_time": "2022-06-07T15:32:17.561434Z"
    },
    "tags": []
   },
   "outputs": [],
   "source": [
    "# Install requirements\n",
    "!pip install -r Requirements.txt"
   ]
  },
  {
   "cell_type": "code",
   "execution_count": null,
   "metadata": {
    "tags": []
   },
   "outputs": [],
   "source": [
    "# View AWS Configuration\n",
    "!aws configure list"
   ]
  },
  {
   "cell_type": "markdown",
   "metadata": {},
   "source": [
    "----Code Start----"
   ]
  },
  {
   "cell_type": "code",
   "execution_count": null,
   "metadata": {
    "ExecuteTime": {
     "end_time": "2022-06-07T15:15:07.734716Z",
     "start_time": "2022-06-07T15:15:02.353151Z"
    }
   },
   "outputs": [],
   "source": [
    "# Imports \n",
    "from ray.util import inspect_serializability\n",
    "import ray\n",
    "import pyarrow.fs as pq\n",
    "import pandas as pd"
   ]
  },
  {
   "cell_type": "code",
   "execution_count": null,
   "metadata": {},
   "outputs": [],
   "source": [
    "# Reusable definitions here\n",
    "bucket = 'DH-SECURE-THANOS-RAY-USE'\n",
    "endpoint = 'https://s3.upshift.redhat.com'\n",
    "\n",
    "year = '2021'\n",
    "month = '01'\n",
    "day = '01'"
   ]
  },
  {
   "cell_type": "markdown",
   "metadata": {},
   "source": [
    "Following cells reads one days worth of parquet files and writes back a single parquet file\n",
    "Month 1, Day 1.\n",
    "1. Fails currently because worker nodes keep dying.\n",
    "2. Success! Successful compaction for a days worth of parquets. Next is a month."
   ]
  },
  {
   "cell_type": "code",
   "execution_count": null,
   "metadata": {},
   "outputs": [],
   "source": [
    "# Read path\n",
    "read_path = 'raydev/metric=cluster_version'\n",
    "read_bucket_uri = f's3://{bucket}/{read_path}/year={year}/month={month}/day={day}'\n",
    "print(read_bucket_uri)\n",
    "\n",
    "# Write path\n",
    "write_path = 'raydev-write-demo/metric=cluster_version'\n",
    "write_bucket_uri = f's3://{bucket}/{write_path}/year={year}/month={month}/day={day}'"
   ]
  },
  {
   "cell_type": "code",
   "execution_count": null,
   "metadata": {
    "tags": []
   },
   "outputs": [],
   "source": [
    "# S3FileSystem in PyArrow\n",
    "fs_pyarrow = pq.S3FileSystem(endpoint_override=endpoint)\n",
    "\n",
    "# Reading parquet using Ray through filesystem\n",
    "df = ray.data.read_parquet(paths=read_bucket_uri, filesystem=fs_pyarrow)\n",
    "\n",
    "# Writing back a single parquet file\n",
    "df.repartition(1).write_parquet(path=write_bucket_uri, filesystem=fs_pyarrow)"
   ]
  },
  {
   "cell_type": "markdown",
   "metadata": {},
   "source": [
    "Following cells try compaction for a whole month:\n",
    "1. Reading from multiple directories seems to be not supported\n",
    "2. Union of dataframes is supported, can be done before the compaction step. https://github.com/ray-project/ray/issues/24598\n",
    "Status: Fails due to memory limits, cannot load a dataframe for more than several days worth of parquets"
   ]
  },
  {
   "cell_type": "code",
   "execution_count": null,
   "metadata": {
    "tags": []
   },
   "outputs": [],
   "source": [
    "# Read path\n",
    "read_path = 'raydev/metric=cluster_version'\n",
    "read_bucket_uri = f's3://{bucket}/{read_path}/year={year}/month={month}/day={day}'\n",
    "# Holds paths \n",
    "read_bucket_multiple = []\n",
    "\n",
    "# Creating paths for every day in the month.\n",
    "for i in range(2,32):\n",
    "    if i < 10:\n",
    "        day = '0'+str(i)\n",
    "    else:\n",
    "        day = str(i)\n",
    "    \n",
    "    read_bucket_multiple.append(f\"s3://{bucket}/{read_path}/year={year}/month={month}/day={day}\")\n",
    "                           \n",
    "print(read_bucket_multiple)\n",
    "\n",
    "\n",
    "# Write path\n",
    "write_path = 'raydev-write-demo/metric=cluster_version'\n",
    "write_bucket_uri = f's3://{bucket}/{write_path}/year={year}/month={month}'\n"
   ]
  },
  {
   "cell_type": "code",
   "execution_count": null,
   "metadata": {
    "tags": []
   },
   "outputs": [],
   "source": [
    "# S3FileSystem in PyArrow\n",
    "fs_pyarrow = pq.S3FileSystem(endpoint_override=endpoint)\n",
    "\n",
    "\n",
    "# Initial read\n",
    "master_df = ray.data.read_parquet(paths='s3://DH-SECURE-THANOS-RAY-USE/raydev/metric=cluster_version/year=2021/month=01/day=01', filesystem=fs_pyarrow)\n",
    "\n",
    "\n",
    "for x in read_bucket_multiple:\n",
    "    df = ray.data.read_parquet(paths=x, filesystem=fs_pyarrow) # Reading parquets for each day using Ray through filesystem\n",
    "\n",
    "    master_df = master_df.union(df) # Followed by unioning the dataframe each time\n",
    "    \n"
   ]
  },
  {
   "cell_type": "code",
   "execution_count": null,
   "metadata": {},
   "outputs": [],
   "source": [
    "# Writing back a single parquet file\n",
    "df.repartition(1).write_parquet(path=write_bucket_uri, filesystem=fs_pyarrow)"
   ]
  }
 ],
 "metadata": {
  "kernelspec": {
   "display_name": "Python 3",
   "language": "python",
   "name": "python3"
  },
  "language_info": {
   "codemirror_mode": {
    "name": "ipython",
    "version": 3
   },
   "file_extension": ".py",
   "mimetype": "text/x-python",
   "name": "python",
   "nbconvert_exporter": "python",
   "pygments_lexer": "ipython3",
   "version": "3.8.6"
  },
  "toc": {
   "base_numbering": 1,
   "nav_menu": {},
   "number_sections": true,
   "sideBar": true,
   "skip_h1_title": false,
   "title_cell": "Table of Contents",
   "title_sidebar": "Contents",
   "toc_cell": false,
   "toc_position": {},
   "toc_section_display": true,
   "toc_window_display": false
  }
 },
 "nbformat": 4,
 "nbformat_minor": 4
}
