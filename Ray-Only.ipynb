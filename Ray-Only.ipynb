{
 "cells": [
  {
   "cell_type": "markdown",
   "metadata": {},
   "source": [
    "Converting pip cells"
   ]
  },
  {
   "cell_type": "code",
   "execution_count": null,
   "metadata": {},
   "outputs": [],
   "source": [
    "%horus convert"
   ]
  },
  {
   "cell_type": "code",
   "execution_count": null,
   "metadata": {
    "tags": []
   },
   "outputs": [],
   "source": [
    "pip install --upgrade pip"
   ]
  },
  {
   "cell_type": "code",
   "execution_count": null,
   "metadata": {
    "ExecuteTime": {
     "end_time": "2022-06-07T15:32:17.584233Z",
     "start_time": "2022-06-07T15:32:17.561434Z"
    },
    "tags": []
   },
   "outputs": [],
   "source": [
    "# Install requirements\n",
    "!pip install -r Requirements.txt "
   ]
  },
  {
   "cell_type": "code",
   "execution_count": null,
   "metadata": {
    "tags": []
   },
   "outputs": [],
   "source": [
    "# View AWS Configuration\n",
    "!aws configure set default.region us-east-1\n",
    "!aws configure list\n"
   ]
  },
  {
   "cell_type": "markdown",
   "metadata": {
    "tags": []
   },
   "source": [
    "Restart kernel to avoid problems."
   ]
  },
  {
   "cell_type": "markdown",
   "metadata": {},
   "source": [
    "----Code Start----"
   ]
  },
  {
   "cell_type": "markdown",
   "metadata": {},
   "source": [
    "Import statements"
   ]
  },
  {
   "cell_type": "code",
   "execution_count": 2,
   "metadata": {
    "ExecuteTime": {
     "end_time": "2022-06-07T15:15:07.734716Z",
     "start_time": "2022-06-07T15:15:02.353151Z"
    },
    "tags": []
   },
   "outputs": [],
   "source": [
    "# Imports \n",
    "import os\n",
    "from ray.util import inspect_serializability\n",
    "import ray\n",
    "import pyarrow.fs as pq\n",
    "import pandas as pd\n",
    "\n",
    "# Making use of datetime for dates, works for every day of the year (30,31,28 day problems go away)\n",
    "from datetime import date, timedelta\n",
    "from dateutil.relativedelta import relativedelta"
   ]
  },
  {
   "cell_type": "markdown",
   "metadata": {},
   "source": [
    "Connect to ray cluster"
   ]
  },
  {
   "cell_type": "code",
   "execution_count": 3,
   "metadata": {
    "tags": []
   },
   "outputs": [
    {
     "data": {
      "text/plain": [
       "{'num_clients': 1,\n",
       " 'python_version': '3.8.12',\n",
       " 'ray_version': '1.12.1',\n",
       " 'ray_commit': '4863e33856b54ccf8add5cbe75e41558850a1b75',\n",
       " 'protocol_version': '2022-03-16'}"
      ]
     },
     "execution_count": 3,
     "metadata": {},
     "output_type": "execute_result"
    }
   ],
   "source": [
    "from ray.util.client import ray as rayclient\n",
    "if rayclient.is_connected():\n",
    "    ray.util.disconnect()\n",
    "\n",
    "ray.util.connect('{ray_head}:10001'.format(ray_head=os.environ['RAY_CLUSTER']))"
   ]
  },
  {
   "cell_type": "markdown",
   "metadata": {},
   "source": [
    "Reusable definitions here"
   ]
  },
  {
   "cell_type": "code",
   "execution_count": 4,
   "metadata": {
    "tags": []
   },
   "outputs": [],
   "source": [
    "# Reusable definitions here\n",
    "bucketName = 'DH-SECURE-THANOS-RAY-USE'\n",
    "endpoint = 'https://s3.upshift.redhat.com'\n",
    "\n",
    "prefixPathRead = 'raydev'\n",
    "prefixPathWrite = 'raydev-write-demo'\n",
    "metricName = 'cluster_version'\n",
    "\n",
    "AWS_ACCESS_KEY = %env AWS_ACCESS_KEY_ID\n",
    "AWS_SECRET_KEY = %env AWS_SECRET_ACCESS_KEY\n",
    "\n",
    "year = '2021'\n",
    "month = '01'\n",
    "day = '01'\n",
    "\n",
    "# Read path\n",
    "read_path = f'{prefixPathRead}/metric={metricName}'\n",
    "\n",
    "# Write path\n",
    "write_path = f'{prefixPathWrite}/metric={metricName}'\n"
   ]
  },
  {
   "cell_type": "code",
   "execution_count": 5,
   "metadata": {
    "tags": []
   },
   "outputs": [],
   "source": [
    "# S3FileSystem in PyArrow\n",
    "fs_pyarrow = pq.S3FileSystem(access_key=AWS_ACCESS_KEY, secret_key=AWS_SECRET_KEY, endpoint_override=endpoint)"
   ]
  },
  {
   "cell_type": "markdown",
   "metadata": {
    "tags": []
   },
   "source": [
    "Following cells reads one days worth of parquet files and writes back a single parquet file\n",
    "Month 1, Day 1.\n",
    "1. Fails currently because worker nodes keep dying.\n",
    "2. Success! Successful compaction for a days worth of parquets. Next is a month."
   ]
  },
  {
   "cell_type": "code",
   "execution_count": null,
   "metadata": {
    "jupyter": {
     "source_hidden": true
    },
    "tags": []
   },
   "outputs": [],
   "source": [
    "# Read path\n",
    "read_path = f'{prefixPathRead}/metric={metricName}'\n",
    "read_bucket_uri = f's3://{bucketName}/{read_path}/year={year}/month={month}/day={day}'\n",
    "\n",
    "# Write path\n",
    "write_path = f'{prefixPathWrite}/metric={metricName}'\n",
    "write_bucket_uri = f's3://{bucketName}/{write_path}/year={year}/month={month}/day={day}'"
   ]
  },
  {
   "cell_type": "code",
   "execution_count": null,
   "metadata": {
    "jupyter": {
     "source_hidden": true
    },
    "tags": []
   },
   "outputs": [],
   "source": [
    "# S3FileSystem in PyArrow\n",
    "fs_pyarrow = pq.S3FileSystem(access_key=AWS_ACCESS_KEY, secret_key=AWS_SECRET_KEY, endpoint_override=endpoint)\n",
    "# Reading parquet using Ray through filesystem\n",
    "df = ray.data.read_parquet(paths=read_bucket_uri, filesystem=fs_pyarrow)\n",
    "\n",
    "# Writing back a single parquet file\n",
    "df.repartition(1).write_parquet(path=write_bucket_uri, filesystem=fs_pyarrow)"
   ]
  },
  {
   "cell_type": "markdown",
   "metadata": {
    "tags": []
   },
   "source": [
    "Following cells try compaction for a whole month:\n",
    "1. Reading from multiple directories seems to be not supported\n",
    "2. Union of dataframes is supported, can be done before the compaction step. https://github.com/ray-project/ray/issues/24598\n",
    "Status: Fails due to memory limits, cannot load a dataframe for more than several days worth of parquets"
   ]
  },
  {
   "cell_type": "code",
   "execution_count": null,
   "metadata": {
    "jupyter": {
     "source_hidden": true
    },
    "tags": []
   },
   "outputs": [],
   "source": [
    "# Read path\n",
    "read_path = f'{prefixPathRead}/metric={metricName}'\n",
    "read_bucket_uri = f's3://{bucketName}/{read_path}/year={year}/month={month}/day={day}'\n",
    "# Holds paths \n",
    "read_bucket_multiple = []\n",
    "\n",
    "# Creating paths for every day in the month.\n",
    "for i in range(2,32):\n",
    "    read_bucket_multiple.append(f\"s3://{bucketName}/{read_path}/year={year}/month={month}/day=\"f\"{i:02d}\")\n",
    "                           \n",
    "#print(read_bucket_multiple)\n",
    "\n",
    "\n",
    "# Write path\n",
    "write_path = f\"{prefixPathWrite}/metric={metricName}\"\n",
    "write_bucket_uri = f's3://{bucketName}/{write_path}/year={year}/month={month}'\n"
   ]
  },
  {
   "cell_type": "code",
   "execution_count": null,
   "metadata": {
    "jupyter": {
     "source_hidden": true
    },
    "tags": []
   },
   "outputs": [],
   "source": [
    "# S3FileSystem in PyArrow\n",
    "fs_pyarrow = pq.S3FileSystem(endpoint_override=endpoint)\n",
    "\n",
    "\n",
    "# Initial read - First day to start a dataframe\n",
    "master_df = ray.data.read_parquet(paths=f's3://{bucketName}/{prefixPathRead}/metric={metricName}/year={year}/month={month}/day=01', filesystem=fs_pyarrow)\n",
    "\n",
    "# Reading remaining days\n",
    "for x in read_bucket_multiple:\n",
    "    df = ray.data.read_parquet(paths=x, filesystem=fs_pyarrow) # Reading parquets for each day using Ray through filesystem\n",
    "    master_df = master_df.union(df) # Followed by unioning the dataframe each time\n",
    "    \n"
   ]
  },
  {
   "cell_type": "code",
   "execution_count": null,
   "metadata": {
    "jupyter": {
     "source_hidden": true
    },
    "tags": []
   },
   "outputs": [],
   "source": [
    "# Writing back a single parquet file\n",
    "df.repartition(1).write_parquet(path=write_bucket_uri, filesystem=fs_pyarrow)"
   ]
  },
  {
   "cell_type": "markdown",
   "metadata": {
    "tags": []
   },
   "source": [
    "Making use of datetime to run compaction for every day, union dataframes and finally writeback"
   ]
  },
  {
   "cell_type": "code",
   "execution_count": null,
   "metadata": {
    "jupyter": {
     "source_hidden": true
    },
    "tags": []
   },
   "outputs": [],
   "source": [
    "firstDay = date(2021, 1, 1)\n",
    "lastDay = firstDay + relativedelta(months = 1)\n",
    "print(lastDay, firstDay)\n",
    "duration = lastDay - firstDay\n",
    "print(duration)\n",
    "for _ in range(12):\n",
    "    for i in range(duration.days):\n",
    "        day = firstDay + timedelta(days = i)\n",
    "        # Set year, month and and day here\n",
    "        year, month, day = (day.year, day.month, day.day)\n",
    "        currentPath = f's3://{bucketName}/{read_path}/year={year}/month='f'{month:02d}''/day='f'{day:02d}'\n",
    "        print(currentPath)\n",
    "        # Code here:\n",
    "        # <Read dataframe>\n",
    "        df = ray.data.read_parquet(paths=currentPath, filesystem=fs_pyarrow)\n",
    "        # <Union dataframe> if not day 1.\n",
    "        if day != 1:\n",
    "            master_df = master_df.union(df) # Followed by unioning the dataframe each time\n",
    "        else:\n",
    "            df = master_df\n",
    "\n",
    "    # Code here:\n",
    "    # <Writeback single parquet for the month>\n",
    "    df.repartition(1).write_parquet(path=f's3://{bucketName}/{write_path}/year={year}/month='f'{month:02d}', filesystem=fs_pyarrow)\n",
    "    firstDay = lastDay\n",
    "    lastDay = firstDay + relativedelta(months = 1)\n"
   ]
  },
  {
   "cell_type": "markdown",
   "metadata": {},
   "source": [
    "Compact everyday and store as one parquet (365 files)"
   ]
  },
  {
   "cell_type": "code",
   "execution_count": 6,
   "metadata": {
    "tags": []
   },
   "outputs": [
    {
     "name": "stdout",
     "output_type": "stream",
     "text": [
      "Reading from: s3://DH-SECURE-THANOS-RAY-USE/raydev/metric=cluster_version/year=2021/month=02/day=01\n"
     ]
    },
    {
     "name": "stderr",
     "output_type": "stream",
     "text": [
      "Metadata Fetch Progress:   0%|          | 0/8 [00:00<?, ?it/s]\n",
      "Metadata Fetch Progress:   0%|          | 0/8 [00:00<?, ?it/s]\n",
      "Metadata Fetch Progress:   0%|          | 0/8 [00:00<?, ?it/s]\n",
      "Metadata Fetch Progress:   0%|          | 0/8 [00:00<?, ?it/s]\n",
      "Metadata Fetch Progress:   0%|          | 0/8 [00:00<?, ?it/s]\n",
      "Metadata Fetch Progress:   0%|          | 0/8 [00:00<?, ?it/s]\n",
      "Metadata Fetch Progress:   0%|          | 0/8 [00:00<?, ?it/s]\n",
      "Metadata Fetch Progress:   0%|          | 0/8 [00:00<?, ?it/s]\n",
      "Metadata Fetch Progress:   0%|          | 0/8 [00:00<?, ?it/s]\n",
      "Metadata Fetch Progress:   0%|          | 0/8 [00:00<?, ?it/s]\n",
      "Metadata Fetch Progress:   0%|          | 0/8 [00:01<?, ?it/s]\n",
      "Metadata Fetch Progress:   0%|          | 0/8 [00:01<?, ?it/s]\n",
      "Metadata Fetch Progress:   0%|          | 0/8 [00:01<?, ?it/s]\n",
      "Metadata Fetch Progress:   0%|          | 0/8 [00:01<?, ?it/s]\n",
      "Metadata Fetch Progress:   0%|          | 0/8 [00:01<?, ?it/s]\n",
      "Metadata Fetch Progress:   0%|          | 0/8 [00:01<?, ?it/s]\n",
      "Metadata Fetch Progress:   0%|          | 0/8 [00:01<?, ?it/s]\n",
      "Metadata Fetch Progress:   0%|          | 0/8 [00:01<?, ?it/s]\n",
      "Metadata Fetch Progress:   0%|          | 0/8 [00:01<?, ?it/s]\n",
      "Metadata Fetch Progress:   0%|          | 0/8 [00:01<?, ?it/s]\n",
      "Metadata Fetch Progress:   0%|          | 0/8 [00:02<?, ?it/s]\n",
      "Metadata Fetch Progress:   0%|          | 0/8 [00:02<?, ?it/s]\n",
      "Metadata Fetch Progress:   0%|          | 0/8 [00:02<?, ?it/s]\n",
      "Metadata Fetch Progress:   0%|          | 0/8 [00:02<?, ?it/s]\n",
      "Metadata Fetch Progress:   0%|          | 0/8 [00:02<?, ?it/s]\n",
      "Metadata Fetch Progress:   0%|          | 0/8 [00:02<?, ?it/s]\n",
      "Metadata Fetch Progress:   0%|          | 0/8 [00:02<?, ?it/s]\n",
      "Metadata Fetch Progress:   0%|          | 0/8 [00:02<?, ?it/s]\n",
      "Metadata Fetch Progress:   0%|          | 0/8 [00:02<?, ?it/s]\n",
      "Metadata Fetch Progress:   0%|          | 0/8 [00:03<?, ?it/s]\n",
      "Metadata Fetch Progress:   0%|          | 0/8 [00:03<?, ?it/s]\n",
      "Metadata Fetch Progress:   0%|          | 0/8 [00:03<?, ?it/s]\n",
      "Metadata Fetch Progress:   0%|          | 0/8 [00:03<?, ?it/s]\n",
      "Metadata Fetch Progress:   0%|          | 0/8 [00:03<?, ?it/s]\n",
      "Metadata Fetch Progress:   0%|          | 0/8 [00:03<?, ?it/s]\n",
      "Metadata Fetch Progress:   0%|          | 0/8 [00:03<?, ?it/s]\n",
      "Metadata Fetch Progress:   0%|          | 0/8 [00:03<?, ?it/s]\n",
      "Metadata Fetch Progress:   0%|          | 0/8 [00:03<?, ?it/s]\n",
      "Metadata Fetch Progress:   0%|          | 0/8 [00:03<?, ?it/s]\n",
      "Metadata Fetch Progress:   0%|          | 0/8 [00:04<?, ?it/s]\n",
      "Metadata Fetch Progress:   0%|          | 0/8 [00:04<?, ?it/s]\n",
      "Metadata Fetch Progress:   0%|          | 0/8 [00:04<?, ?it/s]\n",
      "Metadata Fetch Progress:   0%|          | 0/8 [00:04<?, ?it/s]\n",
      "Metadata Fetch Progress:   0%|          | 0/8 [00:04<?, ?it/s]\n",
      "Metadata Fetch Progress:   0%|          | 0/8 [00:04<?, ?it/s]\n",
      "Metadata Fetch Progress:   0%|          | 0/8 [00:04<?, ?it/s]\n",
      "Metadata Fetch Progress:   0%|          | 0/8 [00:04<?, ?it/s]\n",
      "Metadata Fetch Progress:   0%|          | 0/8 [00:04<?, ?it/s]\n",
      "Metadata Fetch Progress:   0%|          | 0/8 [00:04<?, ?it/s]\n",
      "Metadata Fetch Progress:   0%|          | 0/8 [00:05<?, ?it/s]\n",
      "Metadata Fetch Progress:   0%|          | 0/8 [00:05<?, ?it/s]\n",
      "Metadata Fetch Progress:   0%|          | 0/8 [00:05<?, ?it/s]\n",
      "Metadata Fetch Progress:   0%|          | 0/8 [00:05<?, ?it/s]\n",
      "Metadata Fetch Progress:   0%|          | 0/8 [00:05<?, ?it/s]\n",
      "Metadata Fetch Progress:   0%|          | 0/8 [00:05<?, ?it/s]\n",
      "Metadata Fetch Progress:   0%|          | 0/8 [00:05<?, ?it/s]\n",
      "Metadata Fetch Progress:   0%|          | 0/8 [00:05<?, ?it/s]\n",
      "Metadata Fetch Progress:   0%|          | 0/8 [00:05<?, ?it/s]\n",
      "Metadata Fetch Progress:   0%|          | 0/8 [00:05<?, ?it/s]\n",
      "Metadata Fetch Progress:   0%|          | 0/8 [00:06<?, ?it/s]\n",
      "Metadata Fetch Progress:   0%|          | 0/8 [00:06<?, ?it/s]\n",
      "Metadata Fetch Progress:   0%|          | 0/8 [00:06<?, ?it/s]\n",
      "Metadata Fetch Progress:   0%|          | 0/8 [00:06<?, ?it/s]\n",
      "Metadata Fetch Progress:   0%|          | 0/8 [00:06<?, ?it/s]\n",
      "Metadata Fetch Progress:   0%|          | 0/8 [00:06<?, ?it/s]\n",
      "Metadata Fetch Progress:   0%|          | 0/8 [00:06<?, ?it/s]\n",
      "Metadata Fetch Progress:   0%|          | 0/8 [00:06<?, ?it/s]\n",
      "Metadata Fetch Progress:   0%|          | 0/8 [00:06<?, ?it/s]\n",
      "Metadata Fetch Progress:   0%|          | 0/8 [00:07<?, ?it/s]\n",
      "Metadata Fetch Progress:   0%|          | 0/8 [00:07<?, ?it/s]\n",
      "Metadata Fetch Progress:   0%|          | 0/8 [00:07<?, ?it/s]\n",
      "Metadata Fetch Progress:   0%|          | 0/8 [00:07<?, ?it/s]\n",
      "Metadata Fetch Progress:   0%|          | 0/8 [00:07<?, ?it/s]\n",
      "Metadata Fetch Progress:   0%|          | 0/8 [00:07<?, ?it/s]\n",
      "Metadata Fetch Progress:   0%|          | 0/8 [00:07<?, ?it/s]\n",
      "Metadata Fetch Progress:   0%|          | 0/8 [00:07<?, ?it/s]\n",
      "Metadata Fetch Progress:   0%|          | 0/8 [00:07<?, ?it/s]\n",
      "Metadata Fetch Progress:   0%|          | 0/8 [00:07<?, ?it/s]\n",
      "Metadata Fetch Progress:   0%|          | 0/8 [00:08<?, ?it/s]\n",
      "Metadata Fetch Progress:   0%|          | 0/8 [00:08<?, ?it/s]\n",
      "Metadata Fetch Progress:   0%|          | 0/8 [00:08<?, ?it/s]\n",
      "Metadata Fetch Progress:   0%|          | 0/8 [00:08<?, ?it/s]\n",
      "Metadata Fetch Progress:   0%|          | 0/8 [00:08<?, ?it/s]\n",
      "Metadata Fetch Progress:   0%|          | 0/8 [00:08<?, ?it/s]\n",
      "Metadata Fetch Progress:   0%|          | 0/8 [00:08<?, ?it/s]\n",
      "Metadata Fetch Progress:   0%|          | 0/8 [00:08<?, ?it/s]\n",
      "Metadata Fetch Progress:   0%|          | 0/8 [00:08<?, ?it/s]\n",
      "Metadata Fetch Progress:   0%|          | 0/8 [00:08<?, ?it/s]\n",
      "Metadata Fetch Progress:   0%|          | 0/8 [00:09<?, ?it/s]\n",
      "Metadata Fetch Progress:   0%|          | 0/8 [00:09<?, ?it/s]\n",
      "Metadata Fetch Progress:   0%|          | 0/8 [00:09<?, ?it/s]\n",
      "Metadata Fetch Progress:   0%|          | 0/8 [00:09<?, ?it/s]\n",
      "Metadata Fetch Progress:   0%|          | 0/8 [00:09<?, ?it/s]\n",
      "Metadata Fetch Progress:   0%|          | 0/8 [00:09<?, ?it/s]\n",
      "Metadata Fetch Progress:   0%|          | 0/8 [00:09<?, ?it/s]\n",
      "Metadata Fetch Progress:   0%|          | 0/8 [00:09<?, ?it/s]\n",
      "Metadata Fetch Progress:   0%|          | 0/8 [00:09<?, ?it/s]\n",
      "Metadata Fetch Progress:   0%|          | 0/8 [00:09<?, ?it/s]\n",
      "Metadata Fetch Progress:   0%|          | 0/8 [00:10<?, ?it/s]\n",
      "Metadata Fetch Progress:   0%|          | 0/8 [00:10<?, ?it/s]\n",
      "Metadata Fetch Progress:   0%|          | 0/8 [00:10<?, ?it/s]\n",
      "Metadata Fetch Progress:   0%|          | 0/8 [00:10<?, ?it/s]\n",
      "Metadata Fetch Progress:   0%|          | 0/8 [00:10<?, ?it/s]\n",
      "Metadata Fetch Progress:   0%|          | 0/8 [00:10<?, ?it/s]\n",
      "Metadata Fetch Progress:   0%|          | 0/8 [00:10<?, ?it/s]\n",
      "Metadata Fetch Progress:   0%|          | 0/8 [00:10<?, ?it/s]\n",
      "Metadata Fetch Progress:   0%|          | 0/8 [00:10<?, ?it/s]\n",
      "Metadata Fetch Progress:   0%|          | 0/8 [00:10<?, ?it/s]\n",
      "Metadata Fetch Progress:   0%|          | 0/8 [00:11<?, ?it/s]\n",
      "Metadata Fetch Progress:   0%|          | 0/8 [00:11<?, ?it/s]\n",
      "Metadata Fetch Progress:   0%|          | 0/8 [00:11<?, ?it/s]\n",
      "Metadata Fetch Progress:   0%|          | 0/8 [00:11<?, ?it/s]\n",
      "Metadata Fetch Progress:   0%|          | 0/8 [00:11<?, ?it/s]\n",
      "Metadata Fetch Progress:   0%|          | 0/8 [00:11<?, ?it/s]\n",
      "Metadata Fetch Progress:   0%|          | 0/8 [00:11<?, ?it/s]\n",
      "Metadata Fetch Progress:   0%|          | 0/8 [00:11<?, ?it/s]\n",
      "Metadata Fetch Progress:   0%|          | 0/8 [00:11<?, ?it/s]\n",
      "Metadata Fetch Progress:   0%|          | 0/8 [00:11<?, ?it/s]\n",
      "Metadata Fetch Progress:   0%|          | 0/8 [00:12<?, ?it/s]\n",
      "Metadata Fetch Progress:   0%|          | 0/8 [00:12<?, ?it/s]\n",
      "Metadata Fetch Progress:   0%|          | 0/8 [00:12<?, ?it/s]\n",
      "Metadata Fetch Progress:   0%|          | 0/8 [00:12<?, ?it/s]\n",
      "Metadata Fetch Progress:   0%|          | 0/8 [00:12<?, ?it/s]\n",
      "Metadata Fetch Progress:   0%|          | 0/8 [00:12<?, ?it/s]\n",
      "Metadata Fetch Progress:   0%|          | 0/8 [00:12<?, ?it/s]\n",
      "Metadata Fetch Progress:   0%|          | 0/8 [00:12<?, ?it/s]\n",
      "Metadata Fetch Progress:   0%|          | 0/8 [00:12<?, ?it/s]\n",
      "Metadata Fetch Progress:   0%|          | 0/8 [00:12<?, ?it/s]\n",
      "Metadata Fetch Progress:   0%|          | 0/8 [00:13<?, ?it/s]\n",
      "Metadata Fetch Progress:   0%|          | 0/8 [00:13<?, ?it/s]\n",
      "Metadata Fetch Progress:   0%|          | 0/8 [00:13<?, ?it/s]\n",
      "Metadata Fetch Progress:   0%|          | 0/8 [00:13<?, ?it/s]\n",
      "Metadata Fetch Progress:   0%|          | 0/8 [00:13<?, ?it/s]\n",
      "Metadata Fetch Progress:   0%|          | 0/8 [00:13<?, ?it/s]\n",
      "Metadata Fetch Progress:   0%|          | 0/8 [00:13<?, ?it/s]\n",
      "Metadata Fetch Progress:   0%|          | 0/8 [00:13<?, ?it/s]\n",
      "Metadata Fetch Progress:   0%|          | 0/8 [00:13<?, ?it/s]\n",
      "Metadata Fetch Progress:   0%|          | 0/8 [00:13<?, ?it/s]\n",
      "Metadata Fetch Progress:   0%|          | 0/8 [00:14<?, ?it/s]\n",
      "Metadata Fetch Progress:   0%|          | 0/8 [00:14<?, ?it/s]\n",
      "Metadata Fetch Progress:   0%|          | 0/8 [00:14<?, ?it/s]\n",
      "Metadata Fetch Progress:   0%|          | 0/8 [00:14<?, ?it/s]\n",
      "Metadata Fetch Progress:   0%|          | 0/8 [00:14<?, ?it/s]\n",
      "Metadata Fetch Progress:   0%|          | 0/8 [00:14<?, ?it/s]\n",
      "Metadata Fetch Progress:   0%|          | 0/8 [00:14<?, ?it/s]\n",
      "Metadata Fetch Progress:   0%|          | 0/8 [00:14<?, ?it/s]\n",
      "Metadata Fetch Progress:   0%|          | 0/8 [00:14<?, ?it/s]\n",
      "Metadata Fetch Progress:   0%|          | 0/8 [00:15<?, ?it/s]\n",
      "Metadata Fetch Progress:   0%|          | 0/8 [00:15<?, ?it/s]\n",
      "Metadata Fetch Progress:   0%|          | 0/8 [00:15<?, ?it/s]\n",
      "Metadata Fetch Progress:   0%|          | 0/8 [00:15<?, ?it/s]\n",
      "Metadata Fetch Progress:   0%|          | 0/8 [00:15<?, ?it/s]\n",
      "Metadata Fetch Progress:   0%|          | 0/8 [00:15<?, ?it/s]\n",
      "Metadata Fetch Progress:   0%|          | 0/8 [00:15<?, ?it/s]\n",
      "Metadata Fetch Progress:   0%|          | 0/8 [00:15<?, ?it/s]\n",
      "Metadata Fetch Progress:   0%|          | 0/8 [00:15<?, ?it/s]\n",
      "Metadata Fetch Progress:   0%|          | 0/8 [00:15<?, ?it/s]\n",
      "Metadata Fetch Progress:   0%|          | 0/8 [00:16<?, ?it/s]\n",
      "Metadata Fetch Progress:   0%|          | 0/8 [00:16<?, ?it/s]\n",
      "Metadata Fetch Progress:   0%|          | 0/8 [00:16<?, ?it/s]\n",
      "Metadata Fetch Progress:   0%|          | 0/8 [00:16<?, ?it/s]\n",
      "Metadata Fetch Progress:   0%|          | 0/8 [00:16<?, ?it/s]\n",
      "Metadata Fetch Progress:   0%|          | 0/8 [00:16<?, ?it/s]\n",
      "Metadata Fetch Progress:   0%|          | 0/8 [00:16<?, ?it/s]\n",
      "Metadata Fetch Progress:   0%|          | 0/8 [00:16<?, ?it/s]\n",
      "Metadata Fetch Progress:   0%|          | 0/8 [00:16<?, ?it/s]\n",
      "Metadata Fetch Progress:   0%|          | 0/8 [00:16<?, ?it/s]\n",
      "Metadata Fetch Progress:   0%|          | 0/8 [00:17<?, ?it/s]\n",
      "Metadata Fetch Progress:   0%|          | 0/8 [00:17<?, ?it/s]\n",
      "Metadata Fetch Progress:   0%|          | 0/8 [00:17<?, ?it/s]\n",
      "Metadata Fetch Progress:   0%|          | 0/8 [00:17<?, ?it/s]\n",
      "Metadata Fetch Progress:   0%|          | 0/8 [00:17<?, ?it/s]\n",
      "Metadata Fetch Progress:   0%|          | 0/8 [00:17<?, ?it/s]\n",
      "Metadata Fetch Progress:   0%|          | 0/8 [00:17<?, ?it/s]\n",
      "Metadata Fetch Progress:   0%|          | 0/8 [00:17<?, ?it/s]\n",
      "Metadata Fetch Progress:   0%|          | 0/8 [00:17<?, ?it/s]\n",
      "Metadata Fetch Progress:   0%|          | 0/8 [00:17<?, ?it/s]\n",
      "Metadata Fetch Progress:   0%|          | 0/8 [00:18<?, ?it/s]\n",
      "Metadata Fetch Progress:   0%|          | 0/8 [00:18<?, ?it/s]\n",
      "Metadata Fetch Progress:   0%|          | 0/8 [00:18<?, ?it/s]\n",
      "Metadata Fetch Progress:   0%|          | 0/8 [00:18<?, ?it/s]\n",
      "Metadata Fetch Progress:   0%|          | 0/8 [00:18<?, ?it/s]\n",
      "Metadata Fetch Progress:   0%|          | 0/8 [00:18<?, ?it/s]\n",
      "Metadata Fetch Progress:   0%|          | 0/8 [00:18<?, ?it/s]\n",
      "Metadata Fetch Progress:   0%|          | 0/8 [00:18<?, ?it/s]\n",
      "Metadata Fetch Progress:   0%|          | 0/8 [00:18<?, ?it/s]\n",
      "Metadata Fetch Progress:   0%|          | 0/8 [00:19<?, ?it/s]\n",
      "Metadata Fetch Progress:   0%|          | 0/8 [00:19<?, ?it/s]\n",
      "Metadata Fetch Progress:   0%|          | 0/8 [00:19<?, ?it/s]\n",
      "Metadata Fetch Progress:   0%|          | 0/8 [00:19<?, ?it/s]\n",
      "Metadata Fetch Progress:   0%|          | 0/8 [00:19<?, ?it/s]\n",
      "Metadata Fetch Progress:   0%|          | 0/8 [00:19<?, ?it/s]\n",
      "Metadata Fetch Progress:   0%|          | 0/8 [00:19<?, ?it/s]\n",
      "Metadata Fetch Progress:   0%|          | 0/8 [00:19<?, ?it/s]\n",
      "Metadata Fetch Progress:   0%|          | 0/8 [00:19<?, ?it/s]\n",
      "Metadata Fetch Progress:   0%|          | 0/8 [00:19<?, ?it/s]\n",
      "Metadata Fetch Progress:   0%|          | 0/8 [00:20<?, ?it/s]\n",
      "Metadata Fetch Progress:   0%|          | 0/8 [00:20<?, ?it/s]\n",
      "Metadata Fetch Progress:   0%|          | 0/8 [00:20<?, ?it/s]\n",
      "Metadata Fetch Progress:   0%|          | 0/8 [00:20<?, ?it/s]\n",
      "Metadata Fetch Progress:   0%|          | 0/8 [00:20<?, ?it/s]\n",
      "Metadata Fetch Progress:   0%|          | 0/8 [00:20<?, ?it/s]\n",
      "Metadata Fetch Progress:   0%|          | 0/8 [00:20<?, ?it/s]\n",
      "Metadata Fetch Progress:   0%|          | 0/8 [00:20<?, ?it/s]\n",
      "Metadata Fetch Progress:   0%|          | 0/8 [00:20<?, ?it/s]\n",
      "Metadata Fetch Progress:   0%|          | 0/8 [00:20<?, ?it/s]\n",
      "Metadata Fetch Progress:   0%|          | 0/8 [00:21<?, ?it/s]\n",
      "Metadata Fetch Progress:   0%|          | 0/8 [00:21<?, ?it/s]\n",
      "Metadata Fetch Progress:   0%|          | 0/8 [00:21<?, ?it/s]\n",
      "Metadata Fetch Progress:   0%|          | 0/8 [00:21<?, ?it/s]\n",
      "Metadata Fetch Progress:   0%|          | 0/8 [00:21<?, ?it/s]\n",
      "Metadata Fetch Progress:   0%|          | 0/8 [00:21<?, ?it/s]\n",
      "Metadata Fetch Progress:   0%|          | 0/8 [00:21<?, ?it/s]\n",
      "Metadata Fetch Progress:   0%|          | 0/8 [00:21<?, ?it/s]\n",
      "Metadata Fetch Progress:   0%|          | 0/8 [00:21<?, ?it/s]\n",
      "Metadata Fetch Progress:   0%|          | 0/8 [00:21<?, ?it/s]\n",
      "Metadata Fetch Progress:   0%|          | 0/8 [00:22<?, ?it/s]\n",
      "Metadata Fetch Progress:   0%|          | 0/8 [00:22<?, ?it/s]\n",
      "Metadata Fetch Progress:   0%|          | 0/8 [00:22<?, ?it/s]\n",
      "Metadata Fetch Progress:   0%|          | 0/8 [00:22<?, ?it/s]\n",
      "Metadata Fetch Progress:   0%|          | 0/8 [00:22<?, ?it/s]\n",
      "Metadata Fetch Progress:   0%|          | 0/8 [00:22<?, ?it/s]\n",
      "Metadata Fetch Progress:   0%|          | 0/8 [00:22<?, ?it/s]\n",
      "Metadata Fetch Progress:   0%|          | 0/8 [00:22<?, ?it/s]\n",
      "Metadata Fetch Progress:   0%|          | 0/8 [00:22<?, ?it/s]\n",
      "Metadata Fetch Progress:   0%|          | 0/8 [00:23<?, ?it/s]\n",
      "Metadata Fetch Progress:   0%|          | 0/8 [00:23<?, ?it/s]\n",
      "Metadata Fetch Progress:   0%|          | 0/8 [00:23<?, ?it/s]\n",
      "Metadata Fetch Progress:   0%|          | 0/8 [00:23<?, ?it/s]\n",
      "Metadata Fetch Progress:   0%|          | 0/8 [00:23<?, ?it/s]\n",
      "Metadata Fetch Progress:   0%|          | 0/8 [00:23<?, ?it/s]\n",
      "Metadata Fetch Progress:   0%|          | 0/8 [00:23<?, ?it/s]\n",
      "Metadata Fetch Progress:   0%|          | 0/8 [00:23<?, ?it/s]\n",
      "Metadata Fetch Progress:   0%|          | 0/8 [00:23<?, ?it/s]\n",
      "Metadata Fetch Progress:   0%|          | 0/8 [00:23<?, ?it/s]\n",
      "Metadata Fetch Progress:   0%|          | 0/8 [00:24<?, ?it/s]\n",
      "Metadata Fetch Progress:   0%|          | 0/8 [00:24<?, ?it/s]\n",
      "Metadata Fetch Progress:   0%|          | 0/8 [00:24<?, ?it/s]\n",
      "Metadata Fetch Progress:   0%|          | 0/8 [00:24<?, ?it/s]\n",
      "Metadata Fetch Progress:   0%|          | 0/8 [00:24<?, ?it/s]\n",
      "Metadata Fetch Progress:   0%|          | 0/8 [00:24<?, ?it/s]\n",
      "Metadata Fetch Progress:   0%|          | 0/8 [00:24<?, ?it/s]\n",
      "Metadata Fetch Progress:   0%|          | 0/8 [00:24<?, ?it/s]\n",
      "Metadata Fetch Progress:   0%|          | 0/8 [00:24<?, ?it/s]\n",
      "Metadata Fetch Progress:   0%|          | 0/8 [00:24<?, ?it/s]\n",
      "Metadata Fetch Progress:   0%|          | 0/8 [00:25<?, ?it/s]\n",
      "Metadata Fetch Progress:   0%|          | 0/8 [00:25<?, ?it/s]\n",
      "Metadata Fetch Progress:   0%|          | 0/8 [00:25<?, ?it/s]\n",
      "Metadata Fetch Progress:   0%|          | 0/8 [00:25<?, ?it/s]\n",
      "Metadata Fetch Progress:   0%|          | 0/8 [00:25<?, ?it/s]\n",
      "Metadata Fetch Progress:   0%|          | 0/8 [00:25<?, ?it/s]\n",
      "Metadata Fetch Progress:   0%|          | 0/8 [00:25<?, ?it/s]\n",
      "Metadata Fetch Progress:   0%|          | 0/8 [00:25<?, ?it/s]\n",
      "Metadata Fetch Progress:   0%|          | 0/8 [00:25<?, ?it/s]\n",
      "Metadata Fetch Progress:   0%|          | 0/8 [00:25<?, ?it/s]\n",
      "Metadata Fetch Progress:   0%|          | 0/8 [00:26<?, ?it/s]\n",
      "Metadata Fetch Progress:   0%|          | 0/8 [00:26<?, ?it/s]\n",
      "Metadata Fetch Progress:   0%|          | 0/8 [00:26<?, ?it/s]\n",
      "Metadata Fetch Progress:   0%|          | 0/8 [00:26<?, ?it/s]\n",
      "Metadata Fetch Progress:   0%|          | 0/8 [00:26<?, ?it/s]\n",
      "Metadata Fetch Progress:   0%|          | 0/8 [00:26<?, ?it/s]\n",
      "Metadata Fetch Progress:   0%|          | 0/8 [00:26<?, ?it/s]\n",
      "Metadata Fetch Progress:   0%|          | 0/8 [00:26<?, ?it/s]\n",
      "Metadata Fetch Progress:   0%|          | 0/8 [00:26<?, ?it/s]\n",
      "Metadata Fetch Progress:   0%|          | 0/8 [00:27<?, ?it/s]\n",
      "Metadata Fetch Progress:   0%|          | 0/8 [00:27<?, ?it/s]\n",
      "Metadata Fetch Progress:   0%|          | 0/8 [00:27<?, ?it/s]\n",
      "Metadata Fetch Progress:   0%|          | 0/8 [00:27<?, ?it/s]\n",
      "Metadata Fetch Progress:   0%|          | 0/8 [00:27<?, ?it/s]\n",
      "Metadata Fetch Progress:   0%|          | 0/8 [00:27<?, ?it/s]\n",
      "Metadata Fetch Progress:   0%|          | 0/8 [00:27<?, ?it/s]\n",
      "Metadata Fetch Progress:   0%|          | 0/8 [00:27<?, ?it/s]\n",
      "Metadata Fetch Progress:   0%|          | 0/8 [00:27<?, ?it/s]\n",
      "Metadata Fetch Progress:   0%|          | 0/8 [00:28<?, ?it/s]\n",
      "Metadata Fetch Progress:   0%|          | 0/8 [00:28<?, ?it/s]\n",
      "Metadata Fetch Progress:   0%|          | 0/8 [00:28<?, ?it/s]\n",
      "Metadata Fetch Progress:   0%|          | 0/8 [00:28<?, ?it/s]\n",
      "Metadata Fetch Progress:   0%|          | 0/8 [00:28<?, ?it/s]\n",
      "Metadata Fetch Progress:   0%|          | 0/8 [00:28<?, ?it/s]\n",
      "Metadata Fetch Progress:   0%|          | 0/8 [00:28<?, ?it/s]\n",
      "Metadata Fetch Progress:   0%|          | 0/8 [00:28<?, ?it/s]\n",
      "Metadata Fetch Progress:   0%|          | 0/8 [00:28<?, ?it/s]\n",
      "Metadata Fetch Progress:   0%|          | 0/8 [00:28<?, ?it/s]\n",
      "Metadata Fetch Progress:   0%|          | 0/8 [00:29<?, ?it/s]\n",
      "Metadata Fetch Progress:   0%|          | 0/8 [00:29<?, ?it/s]\n",
      "Metadata Fetch Progress:   0%|          | 0/8 [00:29<?, ?it/s]\n",
      "Metadata Fetch Progress:   0%|          | 0/8 [00:29<?, ?it/s]\n",
      "Metadata Fetch Progress:   0%|          | 0/8 [00:29<?, ?it/s]\n",
      "Metadata Fetch Progress:   0%|          | 0/8 [00:29<?, ?it/s]\n",
      "Metadata Fetch Progress:   0%|          | 0/8 [00:29<?, ?it/s]\n",
      "Metadata Fetch Progress:   0%|          | 0/8 [00:29<?, ?it/s]\n",
      "Metadata Fetch Progress:   0%|          | 0/8 [00:29<?, ?it/s]\n",
      "Metadata Fetch Progress:   0%|          | 0/8 [00:29<?, ?it/s]\n",
      "Metadata Fetch Progress:   0%|          | 0/8 [00:30<?, ?it/s]\n",
      "Metadata Fetch Progress:   0%|          | 0/8 [00:30<?, ?it/s]\n",
      "Metadata Fetch Progress:   0%|          | 0/8 [00:30<?, ?it/s]\n",
      "Metadata Fetch Progress:   0%|          | 0/8 [00:30<?, ?it/s]\n",
      "Metadata Fetch Progress:   0%|          | 0/8 [00:30<?, ?it/s]\n",
      "Metadata Fetch Progress:   0%|          | 0/8 [00:30<?, ?it/s]\n",
      "Metadata Fetch Progress:   0%|          | 0/8 [00:30<?, ?it/s]\n",
      "Metadata Fetch Progress:   0%|          | 0/8 [00:30<?, ?it/s]\n",
      "Metadata Fetch Progress:   0%|          | 0/8 [00:30<?, ?it/s]\n",
      "Metadata Fetch Progress:   0%|          | 0/8 [00:31<?, ?it/s]\n",
      "Metadata Fetch Progress:   0%|          | 0/8 [00:31<?, ?it/s]\n",
      "Metadata Fetch Progress:   0%|          | 0/8 [00:31<?, ?it/s]\n",
      "Metadata Fetch Progress:   0%|          | 0/8 [00:31<?, ?it/s]\n",
      "Metadata Fetch Progress:   0%|          | 0/8 [00:31<?, ?it/s]\n",
      "Metadata Fetch Progress:   0%|          | 0/8 [00:31<?, ?it/s]\n",
      "Metadata Fetch Progress:   0%|          | 0/8 [00:31<?, ?it/s]\n",
      "Metadata Fetch Progress:   0%|          | 0/8 [00:31<?, ?it/s]\n",
      "Metadata Fetch Progress:   0%|          | 0/8 [00:31<?, ?it/s]\n",
      "Metadata Fetch Progress:   0%|          | 0/8 [00:31<?, ?it/s]\n",
      "Metadata Fetch Progress:   0%|          | 0/8 [00:32<?, ?it/s]\n",
      "Metadata Fetch Progress:   0%|          | 0/8 [00:32<?, ?it/s]\n",
      "Metadata Fetch Progress:   0%|          | 0/8 [00:32<?, ?it/s]\n",
      "Metadata Fetch Progress:   0%|          | 0/8 [00:32<?, ?it/s]\n",
      "Metadata Fetch Progress:   0%|          | 0/8 [00:32<?, ?it/s]\n",
      "Metadata Fetch Progress:   0%|          | 0/8 [00:32<?, ?it/s]\n",
      "Metadata Fetch Progress:   0%|          | 0/8 [00:32<?, ?it/s]\n",
      "Metadata Fetch Progress:   0%|          | 0/8 [00:32<?, ?it/s]\n",
      "Metadata Fetch Progress:   0%|          | 0/8 [00:32<?, ?it/s]\n",
      "Metadata Fetch Progress:   0%|          | 0/8 [00:32<?, ?it/s]\n",
      "Metadata Fetch Progress:   0%|          | 0/8 [00:33<?, ?it/s]\n",
      "Metadata Fetch Progress:   0%|          | 0/8 [00:33<?, ?it/s]\n",
      "Metadata Fetch Progress:   0%|          | 0/8 [00:33<?, ?it/s]\n",
      "Metadata Fetch Progress:   0%|          | 0/8 [00:33<?, ?it/s]\n",
      "Metadata Fetch Progress:   0%|          | 0/8 [00:33<?, ?it/s]\n",
      "Metadata Fetch Progress:   0%|          | 0/8 [00:33<?, ?it/s]\n",
      "Metadata Fetch Progress:   0%|          | 0/8 [00:33<?, ?it/s]\n",
      "Metadata Fetch Progress:   0%|          | 0/8 [00:33<?, ?it/s]\n",
      "Metadata Fetch Progress:   0%|          | 0/8 [00:33<?, ?it/s]\n",
      "Metadata Fetch Progress:   0%|          | 0/8 [00:33<?, ?it/s]\n",
      "Metadata Fetch Progress:  12%|█▎        | 1/8 [00:34<00:01,  6.02it/s]\n",
      "Metadata Fetch Progress:  25%|██▌       | 2/8 [00:35<00:03,  1.64it/s]\n",
      "Metadata Fetch Progress:  38%|███▊      | 3/8 [00:35<00:01,  2.55it/s]\n",
      "Metadata Fetch Progress:  50%|█████     | 4/8 [00:36<00:02,  1.34it/s]\n",
      "Metadata Fetch Progress:  62%|██████▎   | 5/8 [00:46<00:12,  4.07s/it]\n",
      "Metadata Fetch Progress:  75%|███████▌  | 6/8 [00:47<00:06,  3.02s/it]\n",
      "Metadata Fetch Progress:  88%|████████▊ | 7/8 [00:47<00:02,  2.09s/it]\n",
      "Metadata Fetch Progress: 100%|██████████| 8/8 [00:55<00:00,  6.97s/it]\n"
     ]
    },
    {
     "name": "stdout",
     "output_type": "stream",
     "text": [
      "Writing to: s3://DH-SECURE-THANOS-RAY-USE/raydev-write-demo/metric=cluster_version/year=2021/month=02/day=01\n"
     ]
    },
    {
     "name": "stderr",
     "output_type": "stream",
     "text": [
      "Map Progress:  44%|████▍     | 21/48 [00:30<00:38,  1.42s/it]\u001b[2m\u001b[36m(raylet, ip=10.130.2.35)\u001b[0m Spilled 3022 MiB, 5 objects, write throughput 458 MiB/s. Set RAY_verbose_spill_logs=0 to disable this message.\n",
      "\u001b[2m\u001b[36m(raylet, ip=10.128.3.222)\u001b[0m Spilled 2053 MiB, 3 objects, write throughput 259 MiB/s. Set RAY_verbose_spill_logs=0 to disable this message.\n",
      "Map Progress:  54%|█████▍    | 26/48 [00:34<00:17,  1.28it/s]\u001b[2m\u001b[36m(raylet, ip=10.131.0.109)\u001b[0m Spilled 2542 MiB, 4 objects, write throughput 287 MiB/s. Set RAY_verbose_spill_logs=0 to disable this message.\n",
      "\u001b[2m\u001b[36m(raylet, ip=10.129.3.136)\u001b[0m Spilled 3134 MiB, 6 objects, write throughput 324 MiB/s. Set RAY_verbose_spill_logs=0 to disable this message.\n",
      "Map Progress:  75%|███████▌  | 36/48 [00:47<00:15,  1.32s/it]\u001b[2m\u001b[36m(raylet, ip=10.129.3.136)\u001b[0m Spilled 4137 MiB, 8 objects, write throughput 359 MiB/s.\n",
      "\u001b[2m\u001b[36m(raylet, ip=10.128.3.222)\u001b[0m Spilled 4150 MiB, 6 objects, write throughput 334 MiB/s.\n",
      "Map Progress:  81%|████████▏ | 39/48 [00:50<00:12,  1.43s/it]\u001b[2m\u001b[36m(raylet, ip=10.131.0.109)\u001b[0m Spilled 4457 MiB, 7 objects, write throughput 311 MiB/s.\n",
      "\u001b[2m\u001b[36m(raylet, ip=10.130.2.35)\u001b[0m Spilled 5033 MiB, 9 objects, write throughput 465 MiB/s.\n",
      "Map Progress: 100%|██████████| 48/48 [01:21<00:00,  1.71s/it]\n",
      "Repartition:   0%|          | 0/1 [09:03<?, ?it/s]Log channel is reconnecting. Logs produced while the connection was down can be found on the head node of the cluster in `ray_client_server_[port].out`\n",
      "2022-06-24 15:29:18,057\tWARNING dataclient.py:362 -- Encountered connection issues in the data channel. Attempting to reconnect.\n",
      "2022-06-24 15:29:48,266\tWARNING dataclient.py:369 -- Failed to reconnect the data channel\n"
     ]
    },
    {
     "ename": "ConnectionError",
     "evalue": "Client is shutting down.",
     "output_type": "error",
     "traceback": [
      "\u001b[0;31m---------------------------------------------------------------------------\u001b[0m",
      "\u001b[0;31mConnectionError\u001b[0m                           Traceback (most recent call last)",
      "Input \u001b[0;32mIn [6]\u001b[0m, in \u001b[0;36m<cell line: 7>\u001b[0;34m()\u001b[0m\n\u001b[1;32m     18\u001b[0m     currentWritePath \u001b[38;5;241m=\u001b[39m \u001b[38;5;124mf\u001b[39m\u001b[38;5;124m'\u001b[39m\u001b[38;5;124ms3://\u001b[39m\u001b[38;5;132;01m{\u001b[39;00mbucketName\u001b[38;5;132;01m}\u001b[39;00m\u001b[38;5;124m/\u001b[39m\u001b[38;5;132;01m{\u001b[39;00mwrite_path\u001b[38;5;132;01m}\u001b[39;00m\u001b[38;5;124m/year=\u001b[39m\u001b[38;5;132;01m{\u001b[39;00myear\u001b[38;5;132;01m}\u001b[39;00m\u001b[38;5;124m/month=\u001b[39m\u001b[38;5;124m'\u001b[39m\u001b[38;5;124mf\u001b[39m\u001b[38;5;124m'\u001b[39m\u001b[38;5;132;01m{\u001b[39;00mmonth\u001b[38;5;132;01m:\u001b[39;00m\u001b[38;5;124m02d\u001b[39m\u001b[38;5;132;01m}\u001b[39;00m\u001b[38;5;124m'\u001b[39m\u001b[38;5;124m'\u001b[39m\u001b[38;5;124m/day=\u001b[39m\u001b[38;5;124m'\u001b[39m\u001b[38;5;124mf\u001b[39m\u001b[38;5;124m'\u001b[39m\u001b[38;5;132;01m{\u001b[39;00mday\u001b[38;5;132;01m:\u001b[39;00m\u001b[38;5;124m02d\u001b[39m\u001b[38;5;132;01m}\u001b[39;00m\u001b[38;5;124m'\u001b[39m\n\u001b[1;32m     19\u001b[0m     \u001b[38;5;28mprint\u001b[39m(\u001b[38;5;124m\"\u001b[39m\u001b[38;5;124mWriting to:\u001b[39m\u001b[38;5;124m\"\u001b[39m, currentWritePath)\n\u001b[0;32m---> 20\u001b[0m     \u001b[43mdf\u001b[49m\u001b[38;5;241;43m.\u001b[39;49m\u001b[43mrepartition\u001b[49m\u001b[43m(\u001b[49m\u001b[38;5;241;43m1\u001b[39;49m\u001b[43m)\u001b[49m\u001b[38;5;241m.\u001b[39mwrite_parquet(path\u001b[38;5;241m=\u001b[39mcurrentWritePath, filesystem\u001b[38;5;241m=\u001b[39mfs_pyarrow)\n\u001b[1;32m     21\u001b[0m firstDay \u001b[38;5;241m=\u001b[39m lastDay\n\u001b[1;32m     22\u001b[0m lastDay \u001b[38;5;241m=\u001b[39m firstDay \u001b[38;5;241m+\u001b[39m relativedelta(months \u001b[38;5;241m=\u001b[39m \u001b[38;5;241m1\u001b[39m)\n",
      "File \u001b[0;32m/opt/app-root/lib64/python3.8/site-packages/ray/data/dataset.py:505\u001b[0m, in \u001b[0;36mDataset.repartition\u001b[0;34m(self, num_blocks, shuffle)\u001b[0m\n\u001b[1;32m    499\u001b[0m         \u001b[38;5;28;01mreturn\u001b[39;00m fast_repartition(blocks, num_blocks)\n\u001b[1;32m    501\u001b[0m     plan \u001b[38;5;241m=\u001b[39m \u001b[38;5;28mself\u001b[39m\u001b[38;5;241m.\u001b[39m_plan\u001b[38;5;241m.\u001b[39mwith_stage(\n\u001b[1;32m    502\u001b[0m         AllToAllStage(\u001b[38;5;124m\"\u001b[39m\u001b[38;5;124mrepartition\u001b[39m\u001b[38;5;124m\"\u001b[39m, num_blocks, do_fast_repartition)\n\u001b[1;32m    503\u001b[0m     )\n\u001b[0;32m--> 505\u001b[0m \u001b[38;5;28;01mreturn\u001b[39;00m \u001b[43mDataset\u001b[49m\u001b[43m(\u001b[49m\u001b[43mplan\u001b[49m\u001b[43m,\u001b[49m\u001b[43m \u001b[49m\u001b[38;5;28;43mself\u001b[39;49m\u001b[38;5;241;43m.\u001b[39;49m\u001b[43m_epoch\u001b[49m\u001b[43m,\u001b[49m\u001b[43m \u001b[49m\u001b[38;5;28;43mself\u001b[39;49m\u001b[38;5;241;43m.\u001b[39;49m\u001b[43m_lazy\u001b[49m\u001b[43m)\u001b[49m\n",
      "File \u001b[0;32m/opt/app-root/lib64/python3.8/site-packages/ray/data/dataset.py:126\u001b[0m, in \u001b[0;36mDataset.__init__\u001b[0;34m(self, plan, epoch, lazy)\u001b[0m\n\u001b[1;32m    122\u001b[0m \u001b[38;5;28mself\u001b[39m\u001b[38;5;241m.\u001b[39m_lazy \u001b[38;5;241m=\u001b[39m lazy\n\u001b[1;32m    124\u001b[0m \u001b[38;5;28;01mif\u001b[39;00m \u001b[38;5;129;01mnot\u001b[39;00m lazy:\n\u001b[1;32m    125\u001b[0m     \u001b[38;5;66;03m# TODO(ekl) we should clear inputs once we have full lineage recorded.\u001b[39;00m\n\u001b[0;32m--> 126\u001b[0m     \u001b[38;5;28;43mself\u001b[39;49m\u001b[38;5;241;43m.\u001b[39;49m\u001b[43m_plan\u001b[49m\u001b[38;5;241;43m.\u001b[39;49m\u001b[43mexecute\u001b[49m\u001b[43m(\u001b[49m\u001b[43mclear_input_blocks\u001b[49m\u001b[38;5;241;43m=\u001b[39;49m\u001b[38;5;28;43;01mFalse\u001b[39;49;00m\u001b[43m)\u001b[49m\n",
      "File \u001b[0;32m/opt/app-root/lib64/python3.8/site-packages/ray/data/impl/plan.py:127\u001b[0m, in \u001b[0;36mExecutionPlan.execute\u001b[0;34m(self, clear_input_blocks)\u001b[0m\n\u001b[1;32m    125\u001b[0m \u001b[38;5;28;01mfor\u001b[39;00m stage \u001b[38;5;129;01min\u001b[39;00m \u001b[38;5;28mself\u001b[39m\u001b[38;5;241m.\u001b[39m_stages:\n\u001b[1;32m    126\u001b[0m     stats_builder \u001b[38;5;241m=\u001b[39m stats\u001b[38;5;241m.\u001b[39mchild_builder(stage\u001b[38;5;241m.\u001b[39mname)\n\u001b[0;32m--> 127\u001b[0m     blocks, stage_info \u001b[38;5;241m=\u001b[39m \u001b[43mstage\u001b[49m\u001b[43m(\u001b[49m\u001b[43mblocks\u001b[49m\u001b[43m,\u001b[49m\u001b[43m \u001b[49m\u001b[43mclear_input_blocks\u001b[49m\u001b[43m)\u001b[49m\n\u001b[1;32m    128\u001b[0m     \u001b[38;5;28;01mif\u001b[39;00m stage_info:\n\u001b[1;32m    129\u001b[0m         stats \u001b[38;5;241m=\u001b[39m stats_builder\u001b[38;5;241m.\u001b[39mbuild_multistage(stage_info)\n",
      "File \u001b[0;32m/opt/app-root/lib64/python3.8/site-packages/ray/data/impl/plan.py:337\u001b[0m, in \u001b[0;36mAllToAllStage.__call__\u001b[0;34m(self, blocks, clear_input_blocks)\u001b[0m\n\u001b[1;32m    334\u001b[0m \u001b[38;5;28;01mdef\u001b[39;00m \u001b[38;5;21m__call__\u001b[39m(\n\u001b[1;32m    335\u001b[0m     \u001b[38;5;28mself\u001b[39m, blocks: BlockList, clear_input_blocks: \u001b[38;5;28mbool\u001b[39m\n\u001b[1;32m    336\u001b[0m ) \u001b[38;5;241m-\u001b[39m\u001b[38;5;241m>\u001b[39m Tuple[BlockList, \u001b[38;5;28mdict\u001b[39m]:\n\u001b[0;32m--> 337\u001b[0m     blocks, stage_info \u001b[38;5;241m=\u001b[39m \u001b[38;5;28;43mself\u001b[39;49m\u001b[38;5;241;43m.\u001b[39;49m\u001b[43mfn\u001b[49m\u001b[43m(\u001b[49m\n\u001b[1;32m    338\u001b[0m \u001b[43m        \u001b[49m\u001b[43mblocks\u001b[49m\u001b[43m,\u001b[49m\u001b[43m \u001b[49m\u001b[43mclear_input_blocks\u001b[49m\u001b[43m,\u001b[49m\u001b[43m \u001b[49m\u001b[38;5;28;43mself\u001b[39;49m\u001b[38;5;241;43m.\u001b[39;49m\u001b[43mblock_udf\u001b[49m\u001b[43m,\u001b[49m\u001b[43m \u001b[49m\u001b[38;5;28;43mself\u001b[39;49m\u001b[38;5;241;43m.\u001b[39;49m\u001b[43mray_remote_args\u001b[49m\n\u001b[1;32m    339\u001b[0m \u001b[43m    \u001b[49m\u001b[43m)\u001b[49m\n\u001b[1;32m    340\u001b[0m     \u001b[38;5;28;01massert\u001b[39;00m \u001b[38;5;28misinstance\u001b[39m(blocks, BlockList), blocks\n\u001b[1;32m    341\u001b[0m     \u001b[38;5;28;01mreturn\u001b[39;00m blocks, stage_info\n",
      "File \u001b[0;32m/opt/app-root/lib64/python3.8/site-packages/ray/data/dataset.py:499\u001b[0m, in \u001b[0;36mDataset.repartition.<locals>.do_fast_repartition\u001b[0;34m(block_list, clear_input_blocks, *_)\u001b[0m\n\u001b[1;32m    497\u001b[0m \u001b[38;5;28;01melse\u001b[39;00m:\n\u001b[1;32m    498\u001b[0m     blocks \u001b[38;5;241m=\u001b[39m block_list\n\u001b[0;32m--> 499\u001b[0m \u001b[38;5;28;01mreturn\u001b[39;00m \u001b[43mfast_repartition\u001b[49m\u001b[43m(\u001b[49m\u001b[43mblocks\u001b[49m\u001b[43m,\u001b[49m\u001b[43m \u001b[49m\u001b[43mnum_blocks\u001b[49m\u001b[43m)\u001b[49m\n",
      "File \u001b[0;32m/opt/app-root/lib64/python3.8/site-packages/ray/data/impl/fast_repartition.py:48\u001b[0m, in \u001b[0;36mfast_repartition\u001b[0;34m(***failed resolving arguments***)\u001b[0m\n\u001b[1;32m     46\u001b[0m new_blocks, new_metadata \u001b[38;5;241m=\u001b[39m \u001b[38;5;28mzip\u001b[39m(\u001b[38;5;241m*\u001b[39mreduce_out)\n\u001b[1;32m     47\u001b[0m new_blocks, new_metadata \u001b[38;5;241m=\u001b[39m \u001b[38;5;28mlist\u001b[39m(new_blocks), \u001b[38;5;28mlist\u001b[39m(new_metadata)\n\u001b[0;32m---> 48\u001b[0m new_metadata \u001b[38;5;241m=\u001b[39m \u001b[43mreduce_bar\u001b[49m\u001b[38;5;241;43m.\u001b[39;49m\u001b[43mfetch_until_complete\u001b[49m\u001b[43m(\u001b[49m\u001b[43mnew_metadata\u001b[49m\u001b[43m)\u001b[49m\n\u001b[1;32m     49\u001b[0m reduce_bar\u001b[38;5;241m.\u001b[39mclose()\n\u001b[1;32m     51\u001b[0m \u001b[38;5;66;03m# Handle empty blocks.\u001b[39;00m\n",
      "File \u001b[0;32m/opt/app-root/lib64/python3.8/site-packages/ray/data/impl/progress_bar.py:74\u001b[0m, in \u001b[0;36mProgressBar.fetch_until_complete\u001b[0;34m(self, refs)\u001b[0m\n\u001b[1;32m     72\u001b[0m t \u001b[38;5;241m=\u001b[39m threading\u001b[38;5;241m.\u001b[39mcurrent_thread()\n\u001b[1;32m     73\u001b[0m \u001b[38;5;28;01mwhile\u001b[39;00m remaining:\n\u001b[0;32m---> 74\u001b[0m     done, remaining \u001b[38;5;241m=\u001b[39m \u001b[43mray\u001b[49m\u001b[38;5;241;43m.\u001b[39;49m\u001b[43mwait\u001b[49m\u001b[43m(\u001b[49m\u001b[43mremaining\u001b[49m\u001b[43m,\u001b[49m\u001b[43m \u001b[49m\u001b[43mfetch_local\u001b[49m\u001b[38;5;241;43m=\u001b[39;49m\u001b[38;5;28;43;01mTrue\u001b[39;49;00m\u001b[43m,\u001b[49m\u001b[43m \u001b[49m\u001b[43mtimeout\u001b[49m\u001b[38;5;241;43m=\u001b[39;49m\u001b[38;5;241;43m0.1\u001b[39;49m\u001b[43m)\u001b[49m\n\u001b[1;32m     75\u001b[0m     \u001b[38;5;28;01mfor\u001b[39;00m ref, result \u001b[38;5;129;01min\u001b[39;00m \u001b[38;5;28mzip\u001b[39m(done, ray\u001b[38;5;241m.\u001b[39mget(done)):\n\u001b[1;32m     76\u001b[0m         ref_to_result[ref] \u001b[38;5;241m=\u001b[39m result\n",
      "File \u001b[0;32m/opt/app-root/lib64/python3.8/site-packages/ray/_private/client_mode_hook.py:104\u001b[0m, in \u001b[0;36mclient_mode_hook.<locals>.wrapper\u001b[0;34m(*args, **kwargs)\u001b[0m\n\u001b[1;32m    100\u001b[0m \u001b[38;5;28;01mif\u001b[39;00m client_mode_should_convert(auto_init\u001b[38;5;241m=\u001b[39mauto_init):\n\u001b[1;32m    101\u001b[0m     \u001b[38;5;66;03m# Legacy code\u001b[39;00m\n\u001b[1;32m    102\u001b[0m     \u001b[38;5;66;03m# we only convert init function if RAY_CLIENT_MODE=1\u001b[39;00m\n\u001b[1;32m    103\u001b[0m     \u001b[38;5;28;01mif\u001b[39;00m func\u001b[38;5;241m.\u001b[39m\u001b[38;5;18m__name__\u001b[39m \u001b[38;5;241m!=\u001b[39m \u001b[38;5;124m\"\u001b[39m\u001b[38;5;124minit\u001b[39m\u001b[38;5;124m\"\u001b[39m \u001b[38;5;129;01mor\u001b[39;00m is_client_mode_enabled_by_default:\n\u001b[0;32m--> 104\u001b[0m         \u001b[38;5;28;01mreturn\u001b[39;00m \u001b[38;5;28;43mgetattr\u001b[39;49m\u001b[43m(\u001b[49m\u001b[43mray\u001b[49m\u001b[43m,\u001b[49m\u001b[43m \u001b[49m\u001b[43mfunc\u001b[49m\u001b[38;5;241;43m.\u001b[39;49m\u001b[38;5;18;43m__name__\u001b[39;49m\u001b[43m)\u001b[49m\u001b[43m(\u001b[49m\u001b[38;5;241;43m*\u001b[39;49m\u001b[43margs\u001b[49m\u001b[43m,\u001b[49m\u001b[43m \u001b[49m\u001b[38;5;241;43m*\u001b[39;49m\u001b[38;5;241;43m*\u001b[39;49m\u001b[43mkwargs\u001b[49m\u001b[43m)\u001b[49m\n\u001b[1;32m    105\u001b[0m \u001b[38;5;28;01mreturn\u001b[39;00m func(\u001b[38;5;241m*\u001b[39margs, \u001b[38;5;241m*\u001b[39m\u001b[38;5;241m*\u001b[39mkwargs)\n",
      "File \u001b[0;32m/opt/app-root/lib64/python3.8/site-packages/ray/util/client/api.py:62\u001b[0m, in \u001b[0;36mClientAPI.wait\u001b[0;34m(self, *args, **kwargs)\u001b[0m\n\u001b[1;32m     55\u001b[0m \u001b[38;5;28;01mdef\u001b[39;00m \u001b[38;5;21mwait\u001b[39m(\u001b[38;5;28mself\u001b[39m, \u001b[38;5;241m*\u001b[39margs, \u001b[38;5;241m*\u001b[39m\u001b[38;5;241m*\u001b[39mkwargs):\n\u001b[1;32m     56\u001b[0m     \u001b[38;5;124;03m\"\"\"wait is the hook stub passed on to replace `ray.wait`\u001b[39;00m\n\u001b[1;32m     57\u001b[0m \n\u001b[1;32m     58\u001b[0m \u001b[38;5;124;03m    Args:\u001b[39;00m\n\u001b[1;32m     59\u001b[0m \u001b[38;5;124;03m        args: opaque arguments\u001b[39;00m\n\u001b[1;32m     60\u001b[0m \u001b[38;5;124;03m        kwargs: opaque keyword arguments\u001b[39;00m\n\u001b[1;32m     61\u001b[0m \u001b[38;5;124;03m    \"\"\"\u001b[39;00m\n\u001b[0;32m---> 62\u001b[0m     \u001b[38;5;28;01mreturn\u001b[39;00m \u001b[38;5;28;43mself\u001b[39;49m\u001b[38;5;241;43m.\u001b[39;49m\u001b[43mworker\u001b[49m\u001b[38;5;241;43m.\u001b[39;49m\u001b[43mwait\u001b[49m\u001b[43m(\u001b[49m\u001b[38;5;241;43m*\u001b[39;49m\u001b[43margs\u001b[49m\u001b[43m,\u001b[49m\u001b[43m \u001b[49m\u001b[38;5;241;43m*\u001b[39;49m\u001b[38;5;241;43m*\u001b[39;49m\u001b[43mkwargs\u001b[49m\u001b[43m)\u001b[49m\n",
      "File \u001b[0;32m/opt/app-root/lib64/python3.8/site-packages/ray/util/client/worker.py:530\u001b[0m, in \u001b[0;36mWorker.wait\u001b[0;34m(self, object_refs, num_returns, timeout, fetch_local)\u001b[0m\n\u001b[1;32m    523\u001b[0m data \u001b[38;5;241m=\u001b[39m {\n\u001b[1;32m    524\u001b[0m     \u001b[38;5;124m\"\u001b[39m\u001b[38;5;124mobject_ids\u001b[39m\u001b[38;5;124m\"\u001b[39m: [object_ref\u001b[38;5;241m.\u001b[39mid \u001b[38;5;28;01mfor\u001b[39;00m object_ref \u001b[38;5;129;01min\u001b[39;00m object_refs],\n\u001b[1;32m    525\u001b[0m     \u001b[38;5;124m\"\u001b[39m\u001b[38;5;124mnum_returns\u001b[39m\u001b[38;5;124m\"\u001b[39m: num_returns,\n\u001b[1;32m    526\u001b[0m     \u001b[38;5;124m\"\u001b[39m\u001b[38;5;124mtimeout\u001b[39m\u001b[38;5;124m\"\u001b[39m: timeout \u001b[38;5;28;01mif\u001b[39;00m (timeout \u001b[38;5;129;01mis\u001b[39;00m \u001b[38;5;129;01mnot\u001b[39;00m \u001b[38;5;28;01mNone\u001b[39;00m) \u001b[38;5;28;01melse\u001b[39;00m \u001b[38;5;241m-\u001b[39m\u001b[38;5;241m1\u001b[39m,\n\u001b[1;32m    527\u001b[0m     \u001b[38;5;124m\"\u001b[39m\u001b[38;5;124mclient_id\u001b[39m\u001b[38;5;124m\"\u001b[39m: \u001b[38;5;28mself\u001b[39m\u001b[38;5;241m.\u001b[39m_client_id,\n\u001b[1;32m    528\u001b[0m }\n\u001b[1;32m    529\u001b[0m req \u001b[38;5;241m=\u001b[39m ray_client_pb2\u001b[38;5;241m.\u001b[39mWaitRequest(\u001b[38;5;241m*\u001b[39m\u001b[38;5;241m*\u001b[39mdata)\n\u001b[0;32m--> 530\u001b[0m resp \u001b[38;5;241m=\u001b[39m \u001b[38;5;28;43mself\u001b[39;49m\u001b[38;5;241;43m.\u001b[39;49m\u001b[43m_call_stub\u001b[49m\u001b[43m(\u001b[49m\u001b[38;5;124;43m\"\u001b[39;49m\u001b[38;5;124;43mWaitObject\u001b[39;49m\u001b[38;5;124;43m\"\u001b[39;49m\u001b[43m,\u001b[49m\u001b[43m \u001b[49m\u001b[43mreq\u001b[49m\u001b[43m,\u001b[49m\u001b[43m \u001b[49m\u001b[43mmetadata\u001b[49m\u001b[38;5;241;43m=\u001b[39;49m\u001b[38;5;28;43mself\u001b[39;49m\u001b[38;5;241;43m.\u001b[39;49m\u001b[43mmetadata\u001b[49m\u001b[43m)\u001b[49m\n\u001b[1;32m    531\u001b[0m \u001b[38;5;28;01mif\u001b[39;00m \u001b[38;5;129;01mnot\u001b[39;00m resp\u001b[38;5;241m.\u001b[39mvalid:\n\u001b[1;32m    532\u001b[0m     \u001b[38;5;66;03m# TODO(ameer): improve error/exceptions messages.\u001b[39;00m\n\u001b[1;32m    533\u001b[0m     \u001b[38;5;28;01mraise\u001b[39;00m \u001b[38;5;167;01mException\u001b[39;00m(\u001b[38;5;124m\"\u001b[39m\u001b[38;5;124mClient Wait request failed. Reference invalid?\u001b[39m\u001b[38;5;124m\"\u001b[39m)\n",
      "File \u001b[0;32m/opt/app-root/lib64/python3.8/site-packages/ray/util/client/worker.py:311\u001b[0m, in \u001b[0;36mWorker._call_stub\u001b[0;34m(self, stub_name, *args, **kwargs)\u001b[0m\n\u001b[1;32m    309\u001b[0m         time\u001b[38;5;241m.\u001b[39msleep(\u001b[38;5;241m0.5\u001b[39m)\n\u001b[1;32m    310\u001b[0m         \u001b[38;5;28;01mcontinue\u001b[39;00m\n\u001b[0;32m--> 311\u001b[0m \u001b[38;5;28;01mraise\u001b[39;00m \u001b[38;5;167;01mConnectionError\u001b[39;00m(\u001b[38;5;124m\"\u001b[39m\u001b[38;5;124mClient is shutting down.\u001b[39m\u001b[38;5;124m\"\u001b[39m)\n",
      "\u001b[0;31mConnectionError\u001b[0m: Client is shutting down."
     ]
    }
   ],
   "source": [
    "#%%capture output \n",
    "firstDay = date(2021,2,1) #February onwards\n",
    "lastDay = firstDay + relativedelta(months = 1)\n",
    "#print(lastDay, firstDay)\n",
    "duration = lastDay - firstDay\n",
    "#print(duration)\n",
    "for _ in range(12):\n",
    "    for i in range(duration.days):\n",
    "        day = firstDay + timedelta(days = i)\n",
    "        # Set year, month and and day here\n",
    "        year, month, day = (day.year, day.month, day.day)        \n",
    "        # Code here:\n",
    "        # <Read dataframe>\n",
    "        currentReadPath = f's3://{bucketName}/{read_path}/year={year}/month='f'{month:02d}''/day='f'{day:02d}'\n",
    "        print(\"Reading from:\",currentReadPath)\n",
    "        df = ray.data.read_parquet(paths=currentReadPath, filesystem=fs_pyarrow)\n",
    "        # <Writeback single parquet for the day>\n",
    "        currentWritePath = f's3://{bucketName}/{write_path}/year={year}/month='f'{month:02d}''/day='f'{day:02d}'\n",
    "        print(\"Writing to:\", currentWritePath)\n",
    "        df.repartition(1).write_parquet(path=currentWritePath, filesystem=fs_pyarrow)\n",
    "    firstDay = lastDay\n",
    "    lastDay = firstDay + relativedelta(months = 1)\n",
    "    duration = lastDay"
   ]
  },
  {
   "cell_type": "markdown",
   "metadata": {},
   "source": [
    "Trying to see if Ray remote functions make a difference"
   ]
  },
  {
   "cell_type": "code",
   "execution_count": null,
   "metadata": {
    "jupyter": {
     "source_hidden": true
    },
    "tags": []
   },
   "outputs": [],
   "source": [
    "#%%capture output \n",
    "@ray.remote\n",
    "def compaction():\n",
    "    firstDay = date(2021,1,1)\n",
    "    lastDay = firstDay + relativedelta(months = 1)\n",
    "    #print(lastDay, firstDay)\n",
    "    duration = lastDay - firstDay\n",
    "    #print(duration)\n",
    "    InitializeS3()\n",
    "    for _ in range(12):\n",
    "        for i in range(duration.days):\n",
    "            day = firstDay + timedelta(days = i)\n",
    "            # Set year, month and and day here\n",
    "            year, month, day = (day.year, day.month, day.day)\n",
    "            currentReadPath = f's3://{bucketName}/{read_path}/year={year}/month='f'{month:02d}''/day='f'{day:02d}'\n",
    "            print(\"Reading from:\",currentReadPath)\n",
    "            # Code here:\n",
    "            # <Read dataframe>\n",
    "            df = ray.data.read_parquet(paths=currentReadPath, filesystem=fs_pyarrow)\n",
    "            # <Writeback single parquet for the day>\n",
    "            currentWritePath = f's3://{bucketName}/{write_path}/year={year}/month='f'{month:02d}''/day='f'{day:02d}'\n",
    "            df.repartition(1).write_parquet(path=currentWritePath, filesystem=fs_pyarrow)\n",
    "            print(\"Writing to:\", currentWritePath)\n",
    "        firstDay = lastDay\n",
    "        lastDay = firstDay + relativedelta(months = 1)\n",
    "        duration = lastDay"
   ]
  },
  {
   "cell_type": "code",
   "execution_count": null,
   "metadata": {
    "jupyter": {
     "source_hidden": true
    },
    "tags": []
   },
   "outputs": [],
   "source": [
    "compaction.remote()"
   ]
  },
  {
   "cell_type": "markdown",
   "metadata": {},
   "source": [
    "Display cached output"
   ]
  },
  {
   "cell_type": "code",
   "execution_count": null,
   "metadata": {
    "tags": []
   },
   "outputs": [],
   "source": [
    "output.show()"
   ]
  },
  {
   "cell_type": "markdown",
   "metadata": {},
   "source": [
    "Breaking down the code for read and write"
   ]
  },
  {
   "cell_type": "code",
   "execution_count": null,
   "metadata": {
    "tags": []
   },
   "outputs": [],
   "source": [
    "#Read one days worth\n",
    "currentReadPath = f's3://{bucketName}/{read_path}/year=2021/month=02/day=01'\n",
    "print(\"Reading from:\",currentReadPath)\n",
    "# Code here:\n",
    "# <Read dataframe>\n",
    "df = ray.data.read_parquet(paths=currentReadPath, filesystem=fs_pyarrow)\n"
   ]
  },
  {
   "cell_type": "code",
   "execution_count": null,
   "metadata": {
    "tags": []
   },
   "outputs": [],
   "source": [
    "print(df)"
   ]
  },
  {
   "cell_type": "code",
   "execution_count": null,
   "metadata": {
    "tags": []
   },
   "outputs": [],
   "source": [
    "df.repartition(1)"
   ]
  },
  {
   "cell_type": "code",
   "execution_count": null,
   "metadata": {
    "tags": []
   },
   "outputs": [],
   "source": [
    "#%%capture output \n",
    "currentWritePath = f's3://{bucketName}/{write_path}/year=2021/month=01/day=03'\n",
    "print(\"Writing to:\", currentWritePath)\n",
    "df.repartition(1).write_parquet(path=currentWritePath, filesystem=fs_pyarrow)"
   ]
  }
 ],
 "metadata": {
  "kernelspec": {
   "display_name": "Python 3 (ipykernel)",
   "language": "python",
   "name": "python3"
  },
  "language_info": {
   "codemirror_mode": {
    "name": "ipython",
    "version": 3
   },
   "file_extension": ".py",
   "mimetype": "text/x-python",
   "name": "python",
   "nbconvert_exporter": "python",
   "pygments_lexer": "ipython3",
   "version": "3.8.8"
  },
  "toc": {
   "base_numbering": 1,
   "nav_menu": {},
   "number_sections": true,
   "sideBar": true,
   "skip_h1_title": false,
   "title_cell": "Table of Contents",
   "title_sidebar": "Contents",
   "toc_cell": false,
   "toc_position": {},
   "toc_section_display": true,
   "toc_window_display": false
  }
 },
 "nbformat": 4,
 "nbformat_minor": 4
}
